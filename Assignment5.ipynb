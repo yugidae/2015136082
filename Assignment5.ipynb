{
 "cells": [
  {
   "cell_type": "markdown",
   "metadata": {},
   "source": [
    "### 문제 1. 클래스와 모듈의 공통점과 차이점에 대해 설명하시오."
   ]
  },
  {
   "cell_type": "markdown",
   "metadata": {},
   "source": [
    "공통점 : 둘다 이름공간을 가진다.\n",
    "\n",
    "차이점 : 모듈은 파일 단위로 코드들을 묶는다.\n",
    "(비슷하거나 관련된 일을 하는 함수나 상수값들을 모아서 하나의 파일에 저장하고 추후에 재사용하는 단위)\n",
    "\n",
    "클래스는 클래스 영역 내에 이름공간을 구성한다."
   ]
  },
  {
   "cell_type": "markdown",
   "metadata": {},
   "source": [
    "### 문제2. 다형성에 대해 설명하고 다형성을 보여주는 자신만의 파이썬 코드 예제를 제시하시오."
   ]
  },
  {
   "cell_type": "code",
   "execution_count": 3,
   "metadata": {},
   "outputs": [
    {
     "name": "stdout",
     "output_type": "stream",
     "text": [
      "hello\n",
      "bonjour\n",
      "...\n"
     ]
    }
   ],
   "source": [
    "class Language:\n",
    "    def greeting(self):\n",
    "        print('...')\n",
    "        \n",
    "class English(Language):\n",
    "    def greeting(self):\n",
    "        print('hello')\n",
    "        \n",
    "class French(Language):\n",
    "    def greeting(self):\n",
    "        print('bonjour')\n",
    "        \n",
    "class China(Language):\n",
    "    pass\n",
    "\n",
    "for each in (English(), French(), China()):\n",
    "    each.greeting()"
   ]
  },
  {
   "cell_type": "markdown",
   "metadata": {},
   "source": [
    "다형성 : 상속 관계 내의 다른 클래스들의 인스턴스들이 같은 멤버 함수 호출에 대해 각각 다르게 반응하도록 하는 기능\n",
    "\n",
    "위의 예제처럼 같은 greeting 함수이지만 클래스의 따라 다르게 정의되어있다."
   ]
  },
  {
   "cell_type": "markdown",
   "metadata": {},
   "source": [
    "### 문제3. 다음 각 요구사항 모두를 만족시키는 Counter 클래스를 코딩하시오 (정답을 각 요구사항별로 입력할 필요 없이 3번 문제에 대해 1개의 클래스 정의 코드를 제시하면 된다.)\n",
    "\n",
    "요구사항 1. 생성자에 count 값과 step 값을 인자로 받을 수 있다.\n",
    "\n",
    "요구사항 2. 다음과 같이 Counter의 인스턴스를 출력을 해주는 __str__() 메소드를 Counter 클래스 내에 구현하시오.\n",
    "\n",
    "요구사항 3. 다음과 같이 step에 주어진 증분만큼 count를 증가시키는 incr() 메소드를 Counter 클래스 내에 구현하시오.\n",
    "\n",
    "요구사항 4. Counter 클래스 내에 관련 메소드를 추가하여 인스턴스 객체를 직접 호출(call)할 수 있도록 하시오. 인스턴스 객체를 직접 호출했을 때에 내부적으로 incr() 메소드를 호출하는 방법으로 구현하시오.\n",
    "\n",
    "요구사항 5. 다음과 같은 두 개의 산술 연산 (+, -)이 수행될 수 있도록 Counter 클래스 내에 관련 메소드를 추가하시오.\n",
    "\n",
    "요구사항 6. 다음과 같은 관계연산 (>, <, ==)이 수행될 수 있도록 Counter 클래스 내에 관련 메소드를 추가하시오."
   ]
  },
  {
   "cell_type": "code",
   "execution_count": 128,
   "metadata": {},
   "outputs": [],
   "source": [
    "class Counter():\n",
    "    \n",
    "    def __init__(self, count=1, step=1): \n",
    "        self.count = count\n",
    "        self.step = step\n",
    "    \n",
    "    def __str__(self): \n",
    "        return \"[Count (step: \"+str(self.step) + \")] \" + str(self.count)\n",
    "    \n",
    "    def incr(self):\n",
    "        self.count += self.step\n",
    "    \n",
    "    def __call__(self):\n",
    "        self.incr()\n",
    "    \n",
    "    def __add__(self, other):\n",
    "        return Counter(self.count + other,self.step) #생성된 객체의 count 값과 other값을 더한다.\n",
    "    \n",
    "    def __sub__(self, other):\n",
    "        return Counter(self.count - other,self.step) #생성된 객체의 count 값과 other값을 뺀다.\n",
    "    \n",
    "    def __gt__(self, other): # 비교연산자 \n",
    "        return self.count > other\n",
    "\n",
    "    def __ge__(self, other):\n",
    "        return self.count >= other\n",
    "    \n",
    "    def __lt__(self, other):\n",
    "        return self.count < other\n",
    "    \n",
    "    def __le__(self, other):\n",
    "        return self.count <= other     \n",
    "    \n",
    "    def __eq__(self, other):\n",
    "        return self.count == other\n",
    "\n",
    "    def __ne__(self, other):\n",
    "        return self.count != other "
   ]
  },
  {
   "cell_type": "code",
   "execution_count": 129,
   "metadata": {},
   "outputs": [],
   "source": [
    "c = Counter(10) \n",
    "d = Counter(10, 2) "
   ]
  },
  {
   "cell_type": "code",
   "execution_count": 130,
   "metadata": {},
   "outputs": [
    {
     "name": "stdout",
     "output_type": "stream",
     "text": [
      "[Count (step: 1)] 10\n",
      "[Count (step: 2)] 10\n"
     ]
    }
   ],
   "source": [
    "print(c)\n",
    "print(d)"
   ]
  },
  {
   "cell_type": "code",
   "execution_count": 131,
   "metadata": {},
   "outputs": [
    {
     "name": "stdout",
     "output_type": "stream",
     "text": [
      "[Count (step: 1)] 11\n",
      "[Count (step: 2)] 12\n"
     ]
    }
   ],
   "source": [
    "c.incr()\n",
    "d.incr()\n",
    "print (c)\n",
    "print (d)"
   ]
  },
  {
   "cell_type": "code",
   "execution_count": 132,
   "metadata": {},
   "outputs": [
    {
     "name": "stdout",
     "output_type": "stream",
     "text": [
      "[Count (step: 1)] 12\n",
      "[Count (step: 2)] 14\n"
     ]
    }
   ],
   "source": [
    "c()\n",
    "d()\n",
    "print (c)\n",
    "print (d)"
   ]
  },
  {
   "cell_type": "code",
   "execution_count": 133,
   "metadata": {},
   "outputs": [
    {
     "name": "stdout",
     "output_type": "stream",
     "text": [
      "[Count (step: 1)] 17\n",
      "[Count (step: 2)] 9\n"
     ]
    }
   ],
   "source": [
    "c = c + 5\n",
    "d = d - 5\n",
    "print (c)\n",
    "print (d)"
   ]
  },
  {
   "cell_type": "code",
   "execution_count": 134,
   "metadata": {},
   "outputs": [
    {
     "name": "stdout",
     "output_type": "stream",
     "text": [
      "True\n",
      "False\n",
      "False\n",
      "True\n",
      "True\n",
      "False\n"
     ]
    }
   ],
   "source": [
    "print (c > 10)\n",
    "print (d > 10)\n",
    "print (c < 10)\n",
    "print (d < 10)\n",
    "print (c == 17)\n",
    "print (d != 9)"
   ]
  },
  {
   "cell_type": "markdown",
   "metadata": {},
   "source": [
    "### 문제4. 다음은 내장 자료형 list를 서브클래싱하여 만든 MySet 클래스 정의 내용이다. 다음 클래스 정의에서 __init__(), __str()__(), elimicate_duplicate()의 세 개의 메소드 코드 내용을 자신이 다른 사람에게 가르친다고 생각하며 설명해보시오.\n",
    "\n",
    "MySet은 집합(Set) 자료형을 정의하려는 의도하에 만들어진 클래스이다."
   ]
  },
  {
   "cell_type": "code",
   "execution_count": 135,
   "metadata": {},
   "outputs": [
    {
     "name": "stdout",
     "output_type": "stream",
     "text": [
      "MySet: {1 ,2 ,3}\n",
      "MySet: {2 ,3 ,4 ,5 ,6 ,7 ,8 ,9}\n"
     ]
    }
   ],
   "source": [
    "class MySet(list):\n",
    "    def __init__(self, l):\n",
    "        for e in l:\n",
    "            self.append(e)\n",
    "        MySet.eliminate_duplicate(self)\n",
    "    \n",
    "    def __str__(self):\n",
    "        result = \"MySet: {\"\n",
    "        for e in self:\n",
    "            result = result + str(e) + \" ,\"\n",
    "        result = result[0:len(result)-2] + \"}\"\n",
    "        return result\n",
    "\n",
    "    @staticmethod    \n",
    "    def eliminate_duplicate(l):\n",
    "        s = []\n",
    "        for e in l:\n",
    "            if e not in s:\n",
    "                s.append(e)\n",
    "        l[:] = []\n",
    "        for e in s:\n",
    "            l.append(e)\n",
    "\n",
    "    \n",
    "if __name__ == \"__main__\":\n",
    "    s = MySet([1, 2, 2, 3])\n",
    "    print(s)\n",
    "    t = MySet([2, 3, 4, 5, 6, 7, 8, 8, 8, 8, 8, 9])\n",
    "    print(t)"
   ]
  },
  {
   "cell_type": "markdown",
   "metadata": {},
   "source": [
    "1. __init__  : list를 받아와서 self에 저장하고 eliminate_duplicate함수에 list를 전달한다. \n",
    "2. __str__: printf함수를 호출한다.\n",
    "3. eliminate_duplicat : 새로운 임의의 리스트 s를 만들어 기존의 list중 중복인 것을 제거하고 저장한 후 기존의 리스트를 비우고 리스트s를 다시 기존의 리스트에 저장한다. \n",
    "\n",
    "결론적으로 중복이 제거된 리스트가 만들어진다."
   ]
  },
  {
   "cell_type": "markdown",
   "metadata": {},
   "source": [
    "### 문제5. 4번 문제에 정의된 MySet 클래스에 메소드를 추가하여 다음 각 요구사항 모두를 만족시키는 코딩을 제시하시오\n",
    "\n",
    "정답을 각 요구사항별로 입력할 필요 없이 요구사항 3개 전체에 대해 1개의 MySet 클래스 정의 코드를 제시하고 주석등으로 해당 코드를 설명한다.\n",
    "\n",
    "요구사항 1. | 연산으로 두 집합의 합집합을 반환한다.\n",
    "\n",
    "요구사항 2. & 연산으로 두 집합의 교집합을 반환한다.\n",
    "\n",
    "요구사항 3. - 연산으로 두 집합의 차집합을 반환한다."
   ]
  },
  {
   "cell_type": "code",
   "execution_count": 146,
   "metadata": {},
   "outputs": [
    {
     "name": "stdout",
     "output_type": "stream",
     "text": [
      "MySet: {1 ,2 ,3}\n",
      "MySet: {2 ,3 ,4 ,5 ,6 ,7 ,8 ,9}\n",
      "MySet: {1,2,3,4,5,6,7,8,9}\n",
      "MySet: {2,3}\n",
      "MySet: {1,2}\n"
     ]
    }
   ],
   "source": [
    "class MySet(list):\n",
    "    def __init__(self, l):\n",
    "        for e in l:\n",
    "            self.append(e)\n",
    "        MySet.eliminate_duplicate(self)\n",
    "    \n",
    "    def __str__(self):\n",
    "        result = \"MySet: {\"\n",
    "        for e in self:\n",
    "            result = result + str(e) + \" ,\"\n",
    "        result = result[0:len(result)-2] + \"}\"\n",
    "        return result\n",
    "\n",
    "    @staticmethod    \n",
    "    def eliminate_duplicate(l):\n",
    "        s = []\n",
    "        for e in l:\n",
    "            if e not in s:\n",
    "                s.append(e)\n",
    "        l[:] = []\n",
    "        for e in s:\n",
    "            l.append(e)\n",
    "            \n",
    "    def __or__(self, other): \n",
    "        self = set(self) # 리스트를 집합으로 만든다.\n",
    "        other = set(other)\n",
    "        self = self|other # | 연산값을 self에 저장한다. \n",
    "        self = list(self) # 집합을 리스트로 만든다.(아래 반복문 연산을 위해)\n",
    "        result = \"MySet: {\" # MySet: {} 출력형식 \n",
    "        for i in self: # 리스트를 문자열 변수 result에 저장한다. \n",
    "            result = result + str(i) + \",\" # list의 값을 ,으로 연결하여 result에 저장한다. \n",
    "        result = result[0:len(result)-1] + \"}\" # len(result)-1은 마지막에 ,를 제거하기 위해서이다.\n",
    "        return result \n",
    "    \n",
    "    def __and__(self, other): \n",
    "        self = set(self) \n",
    "        other = set(other)\n",
    "        self = self&other # & 연산값을 self에 저장한다.\n",
    "        self = list(self) # 집합을 리스트로 만든다\n",
    "        result = \"MySet: {\"\n",
    "        for i in self:\n",
    "            result = result + str(i) + \",\"  # 위와동일\n",
    "        result = result[0:len(result)-1] + \"}\"\n",
    "        return result\n",
    "\n",
    "    def __sub__(self, other):  # 위와 동일\n",
    "        self = set(self)\n",
    "        other = set(other)\n",
    "        self = self-other\n",
    "        self = list(self)\n",
    "        result = \"MySet: {\"\n",
    "        for i in self:\n",
    "            result = result + str(i) + \",\"\n",
    "        result = result[0:len(result)-1] + \"}\"\n",
    "        return result\n",
    "    \n",
    "if __name__ == \"__main__\":\n",
    "    s = MySet([1, 2, 2, 3])\n",
    "    print(s)\n",
    "    t = MySet([2, 3, 4, 5, 6, 7, 8, 8, 8, 8, 8, 9])\n",
    "    print(t)\n",
    "    u = s|t\n",
    "    print (u)\n",
    "    u = s&t\n",
    "    print (u)\n",
    "    s = MySet([1, 2, 3])\n",
    "    t = MySet([3, 4, 5])\n",
    "    u = s-t\n",
    "    print (u)"
   ]
  },
  {
   "cell_type": "markdown",
   "metadata": {},
   "source": [
    "### 문제6. 5번 문제에서 정의한 MySet 클래스에 대해 다음 예제를 수행하면 오류없이 올바르게 동작하는 것을 확인할 수 있다. 다음 예제 내에 있는 len(), bool() 내장함수와 in 키워드 사용 예제가 별다른 메소드 정의를 하지 않았는 데도 올바르게 수행되는 이유를 설명하시오."
   ]
  },
  {
   "cell_type": "markdown",
   "metadata": {},
   "source": [
    " len(), bool() 내장함수와 in 키워드는 기본적으로 내장되기 때문에 별다른 메소드를 정의 할 필요가 없다."
   ]
  },
  {
   "cell_type": "markdown",
   "metadata": {},
   "source": [
    "문제 7,8,9는 하지 못했습니다."
   ]
  },
  {
   "cell_type": "markdown",
   "metadata": {},
   "source": [
    "고찰 : 파이썬을 배우기 전부터 다른언어에 비해 파이썬이 쉽다고 주변에서 많이 들었었는데 이번 한학기동안 수업을 들어보니 분명 다른언어보다 이해하기가 쉬워 처음 배우는 언어로 파이썬을 배우는 것은 좋은선택이라 여겨지지만 쉽지 않은 부분도 분명히 있었다. 만약 처음에 파이썬을 배웠다면 더 쉽게 받아들였겠지만 학교 커리큘럼이 c언어 ~ java까지 이어지는데 이미 앞서 언어에 익숙하다보니 자꾸 파이썬과 혼동되는 부분이 많이 있었다. "
   ]
  },
  {
   "cell_type": "code",
   "execution_count": null,
   "metadata": {},
   "outputs": [],
   "source": []
  }
 ],
 "metadata": {
  "kernelspec": {
   "display_name": "Python 3",
   "language": "python",
   "name": "python3"
  },
  "language_info": {
   "codemirror_mode": {
    "name": "ipython",
    "version": 3
   },
   "file_extension": ".py",
   "mimetype": "text/x-python",
   "name": "python",
   "nbconvert_exporter": "python",
   "pygments_lexer": "ipython3",
   "version": "3.6.5"
  }
 },
 "nbformat": 4,
 "nbformat_minor": 2
}
