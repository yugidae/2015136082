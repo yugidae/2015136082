{
 "cells": [
  {
   "cell_type": "markdown",
   "metadata": {},
   "source": [
    "# 문제 1.  L=[1, 2, 3, 4, 5]일 때 다음 각 문장을 수행한 후의 결과를 보고 납득할 만한 이유를 설명하시오."
   ]
  },
  {
   "cell_type": "code",
   "execution_count": 8,
   "metadata": {},
   "outputs": [
    {
     "name": "stdout",
     "output_type": "stream",
     "text": [
      "[1, 100, 4, 5]\n"
     ]
    }
   ],
   "source": [
    "L = [1,2,3,4,5]\n",
    "L[1:3] = [100]\n",
    "print(L)"
   ]
  },
  {
   "cell_type": "markdown",
   "metadata": {},
   "source": [
    "리스트는 서로다른크기에 대한 치환이 가능하다.  인덱스1과2의 원소가 100으로 치환된다."
   ]
  },
  {
   "cell_type": "code",
   "execution_count": 10,
   "metadata": {},
   "outputs": [
    {
     "name": "stdout",
     "output_type": "stream",
     "text": [
      "[1, 100, 4, 5]\n"
     ]
    }
   ],
   "source": [
    "L = [1,2,3,4,5]\n",
    "L[1:3] = [(100)]\n",
    "print(L)"
   ]
  },
  {
   "cell_type": "markdown",
   "metadata": {},
   "source": [
    "[(100)]은 [100]과 같다.  위와 같은 방식으로 치환된다."
   ]
  },
  {
   "cell_type": "code",
   "execution_count": 36,
   "metadata": {},
   "outputs": [
    {
     "ename": "TypeError",
     "evalue": "can only assign an iterable",
     "output_type": "error",
     "traceback": [
      "\u001b[1;31m---------------------------------------------------------------------------\u001b[0m",
      "\u001b[1;31mTypeError\u001b[0m                                 Traceback (most recent call last)",
      "\u001b[1;32m<ipython-input-36-0967d74d1459>\u001b[0m in \u001b[0;36m<module>\u001b[1;34m()\u001b[0m\n\u001b[0;32m      1\u001b[0m \u001b[0mL\u001b[0m \u001b[1;33m=\u001b[0m \u001b[1;33m[\u001b[0m\u001b[1;36m1\u001b[0m\u001b[1;33m,\u001b[0m\u001b[1;36m2\u001b[0m\u001b[1;33m,\u001b[0m\u001b[1;36m3\u001b[0m\u001b[1;33m,\u001b[0m\u001b[1;36m4\u001b[0m\u001b[1;33m,\u001b[0m\u001b[1;36m5\u001b[0m\u001b[1;33m]\u001b[0m\u001b[1;33m\u001b[0m\u001b[0m\n\u001b[1;32m----> 2\u001b[1;33m \u001b[0mL\u001b[0m\u001b[1;33m[\u001b[0m\u001b[1;36m1\u001b[0m\u001b[1;33m:\u001b[0m\u001b[1;36m3\u001b[0m\u001b[1;33m]\u001b[0m \u001b[1;33m=\u001b[0m \u001b[1;36m100\u001b[0m\u001b[1;33m\u001b[0m\u001b[0m\n\u001b[0m\u001b[0;32m      3\u001b[0m \u001b[0mprint\u001b[0m\u001b[1;33m(\u001b[0m\u001b[0mL\u001b[0m\u001b[1;33m)\u001b[0m\u001b[1;33m\u001b[0m\u001b[0m\n",
      "\u001b[1;31mTypeError\u001b[0m: can only assign an iterable"
     ]
    }
   ],
   "source": [
    "L = [1,2,3,4,5]\n",
    "L[1:3] = 100\n",
    "print(L)"
   ]
  },
  {
   "cell_type": "markdown",
   "metadata": {},
   "source": [
    "100은 상수이기 때문에 치환할 수 없다."
   ]
  },
  {
   "cell_type": "code",
   "execution_count": 34,
   "metadata": {},
   "outputs": [
    {
     "ename": "TypeError",
     "evalue": "can only assign an iterable",
     "output_type": "error",
     "traceback": [
      "\u001b[1;31m---------------------------------------------------------------------------\u001b[0m",
      "\u001b[1;31mTypeError\u001b[0m                                 Traceback (most recent call last)",
      "\u001b[1;32m<ipython-input-34-c0dd28cb41a3>\u001b[0m in \u001b[0;36m<module>\u001b[1;34m()\u001b[0m\n\u001b[0;32m      1\u001b[0m \u001b[0mL\u001b[0m \u001b[1;33m=\u001b[0m \u001b[1;33m[\u001b[0m\u001b[1;36m1\u001b[0m\u001b[1;33m,\u001b[0m\u001b[1;36m2\u001b[0m\u001b[1;33m,\u001b[0m\u001b[1;36m3\u001b[0m\u001b[1;33m,\u001b[0m\u001b[1;36m4\u001b[0m\u001b[1;33m,\u001b[0m\u001b[1;36m5\u001b[0m\u001b[1;33m]\u001b[0m\u001b[1;33m\u001b[0m\u001b[0m\n\u001b[1;32m----> 2\u001b[1;33m \u001b[0mL\u001b[0m\u001b[1;33m[\u001b[0m\u001b[1;36m1\u001b[0m\u001b[1;33m:\u001b[0m\u001b[1;36m2\u001b[0m\u001b[1;33m]\u001b[0m \u001b[1;33m=\u001b[0m \u001b[1;36m100\u001b[0m\u001b[1;33m\u001b[0m\u001b[0m\n\u001b[0m\u001b[0;32m      3\u001b[0m \u001b[0mprint\u001b[0m\u001b[1;33m(\u001b[0m\u001b[0mL\u001b[0m\u001b[1;33m)\u001b[0m\u001b[1;33m\u001b[0m\u001b[0m\n",
      "\u001b[1;31mTypeError\u001b[0m: can only assign an iterable"
     ]
    }
   ],
   "source": [
    "L = [1,2,3,4,5]\n",
    "L[1:2] = (100)\n",
    "print(L)"
   ]
  },
  {
   "cell_type": "markdown",
   "metadata": {},
   "source": [
    "(100)은 100과 같으므로 상수는 리스트의 원소로 치환할 수 없다."
   ]
  },
  {
   "cell_type": "code",
   "execution_count": 22,
   "metadata": {},
   "outputs": [
    {
     "name": "stdout",
     "output_type": "stream",
     "text": [
      "[1, 100, 101, 102, 4, 5]\n"
     ]
    }
   ],
   "source": [
    "L = [1,2,3,4,5]\n",
    "L[1:3] = (100, 101, 102)\n",
    "print(L)"
   ]
  },
  {
   "cell_type": "markdown",
   "metadata": {},
   "source": [
    "튜플은 리스트의 원소로 치환할 수 있다."
   ]
  },
  {
   "cell_type": "code",
   "execution_count": 23,
   "metadata": {},
   "outputs": [
    {
     "name": "stdout",
     "output_type": "stream",
     "text": [
      "[1, 100, 101, 102, 4, 5]\n"
     ]
    }
   ],
   "source": [
    "L = [1,2,3,4,5]\n",
    "L[1:3] = [100, 101, 102]\n",
    "print(L)"
   ]
  },
  {
   "cell_type": "markdown",
   "metadata": {},
   "source": [
    "리스트는 리스트의 원소로 치환할 수 있다."
   ]
  },
  {
   "cell_type": "code",
   "execution_count": 24,
   "metadata": {},
   "outputs": [
    {
     "name": "stdout",
     "output_type": "stream",
     "text": [
      "[1, (100, 101, 102), 4, 5]\n"
     ]
    }
   ],
   "source": [
    "L = [1,2,3,4,5]\n",
    "L[1:3] = [(100, 101, 102)]\n",
    "print(L)"
   ]
  },
  {
   "cell_type": "markdown",
   "metadata": {},
   "source": [
    "리스트안에 튜플을 리스트의 원소로 치환할 때, 내부의 튜플은 그대로 유지된다."
   ]
  },
  {
   "cell_type": "code",
   "execution_count": 25,
   "metadata": {},
   "outputs": [
    {
     "name": "stdout",
     "output_type": "stream",
     "text": [
      "[1, [100, 101, 102], 4, 5]\n"
     ]
    }
   ],
   "source": [
    "L = [1,2,3,4,5]\n",
    "L[1:3] = [[100, 101, 102]]\n",
    "print(L)"
   ]
  },
  {
   "cell_type": "markdown",
   "metadata": {},
   "source": [
    "리스트안에 리스트를 리스트의 원소로 치환할 때, 내부의 리스트는 그대로 유지된다."
   ]
  },
  {
   "cell_type": "markdown",
   "metadata": {},
   "source": [
    "# 문제 2. 문자열 S = 'Hello World and Python'에 대해 다음 요구사항에 대한 Python 코드를 제시하시오.\n",
    "### 1) 단어의 순서가 역순으로 되어진 문자열 ('Python and World Hello')을 만들고\n",
    "### 2) 1)의 결과 문자열에 대해 메소드 split과 join을 이용하여 공백을 모두 없엔 문자열 'PythonandWorldHello'을 만드시오."
   ]
  },
  {
   "cell_type": "code",
   "execution_count": 69,
   "metadata": {},
   "outputs": [
    {
     "name": "stdout",
     "output_type": "stream",
     "text": [
      "PythonandWorldHello\n"
     ]
    }
   ],
   "source": [
    "S = \"Hello World and Python\"\n",
    "s = S[15:] + S[11:16] + S[6:12] + S[:5]\n",
    "s = s.split()\n",
    "s = ''.join(s)\n",
    "print(s)"
   ]
  },
  {
   "cell_type": "markdown",
   "metadata": {},
   "source": [
    "S를 역순으로 되어진 문자열 s로 변경하고, s.split()를 통해 공백을 기준으로 나누어 리스트로 만든다. "
   ]
  },
  {
   "cell_type": "markdown",
   "metadata": {},
   "source": [
    "만든 리스트 s를 ''.join(s)를 통해 공백없이 합친다."
   ]
  },
  {
   "cell_type": "markdown",
   "metadata": {},
   "source": [
    "# 문제 3. 다음 코드를 보고 물음에 답하시오.\n",
    "\n",
    "##### a = [1, 2, 3]\n",
    "##### b = a * 3\n",
    "##### c = [a] * 3\n",
    "##### print(b)\n",
    "##### print(c)\n",
    "##### 1) 위 코드를 수행한 이후 다음 코드를 수행한 후 b와 c의 내용을 확인하시오.\n",
    "##### a[0]=0"
   ]
  },
  {
   "cell_type": "code",
   "execution_count": 73,
   "metadata": {},
   "outputs": [
    {
     "name": "stdout",
     "output_type": "stream",
     "text": [
      "[1, 2, 3, 1, 2, 3, 1, 2, 3]\n",
      "[[1, 2, 3], [1, 2, 3], [1, 2, 3]]\n"
     ]
    }
   ],
   "source": [
    "a = [1, 2, 3]\n",
    "b = a * 3\n",
    "c = [a] * 3\n",
    "print(b)\n",
    "print(c)"
   ]
  },
  {
   "cell_type": "code",
   "execution_count": 74,
   "metadata": {},
   "outputs": [
    {
     "name": "stdout",
     "output_type": "stream",
     "text": [
      "[1, 2, 3, 1, 2, 3, 1, 2, 3]\n",
      "[[0, 2, 3], [0, 2, 3], [0, 2, 3]]\n"
     ]
    }
   ],
   "source": [
    "a[0] = 0\n",
    "print(b)\n",
    "print(c)"
   ]
  },
  {
   "cell_type": "markdown",
   "metadata": {},
   "source": [
    "##### 2) b와 c 객체의 차이는 무엇인가?,"
   ]
  },
  {
   "cell_type": "markdown",
   "metadata": {},
   "source": [
    "b는 리스트 a를 3번 반복한 새로운 객체인 반면 c는 리스트 a를 원소로 가진다. 즉 c = [a,a,a]이므로 a의 원소가 변경되면 c의 원소도 변경된다."
   ]
  },
  {
   "cell_type": "markdown",
   "metadata": {},
   "source": [
    "# 문제 4. 다음 문자열을 ':'을 기준으로 분리하여 리스트로 만들고 각 문자열의 좌우 공백을 제거하시오 (즉, 문자열 S에서 l을 만들어라)\n",
    "### s = '  first star   :   second star   :    third star  '\n",
    "### l = ['first star', 'second star', 'third star']\n",
    "### 1) for ~ in 문을 이용한 코드를 작성하시오.\n",
    "### 2) 리스트 내포(list comprehension)를 이용한 코드를 작성하시오."
   ]
  },
  {
   "cell_type": "code",
   "execution_count": 87,
   "metadata": {},
   "outputs": [
    {
     "name": "stdout",
     "output_type": "stream",
     "text": [
      "['first star', 'second star', 'third star']\n"
     ]
    }
   ],
   "source": [
    "s = '  first star   :   second star   :    third star  '\n",
    "s = s.split(':')\n",
    "l = [s[i].strip() for i in range(len(s))]\n",
    "print(l)"
   ]
  },
  {
   "cell_type": "markdown",
   "metadata": {},
   "source": [
    "문자열 s를 :기준으로 나누어 리스트로 만들고 리스트 내포와 strip()를 이용하여 좌우공백을 제거한 리스트로 만든다."
   ]
  },
  {
   "cell_type": "markdown",
   "metadata": {},
   "source": [
    "# 문제 5. 다음과 같이 0보다 큰 정수 리스트 변수 list를 인자로 받는 함수 addall(list)와 addallodd(list)를 for ~ in 리터널과 리스트 내포 방식으로 각각 제시하시오.\n",
    "\n",
    "### 1) addall(list) 함수 (리스트 내의 모든 정수를 더하는 함수로서 해답으로는 for ~ in 리터럴과 리스트 내포 방식으로 각각 제시하시오.)\n",
    "\n",
    "##### >>> addall([1])\n",
    "1\n",
    "##### >>> addall([1, 2, 3, 4, 5, 6, 7, 8, 9])\n",
    "45\n",
    "### 2) addallodd(list) 함수 (리스트내의 모든 홀수를 더하는 함수로서 해답으로는 for ~ in 리터럴과 리스트 내포 방식으로 각각 제시하시오.)\n",
    "##### >>> addallodd([1])\n",
    "1\n",
    "##### >>> addallodd([1, 2, 3, 4, 5, 6, 7, 8, 9])\n",
    "25\n",
    "### [참고 1]: 리스트 내포 방식으로 addall() 및 addallodd()함수를 만들 때엔 리스트 내포에 의해 생성된 리스트 결과에 대해 내장 함수를 사용하는 방식을 고려해보시오 (주의: 리스트 내포 방식의 addall() 및 addallodd() 함수의 몸체는 단 1줄로 작성되어야 한다.)\n",
    "### [참고 2]: sum() 등의 내장함수 사용 가능함 "
   ]
  },
  {
   "cell_type": "code",
   "execution_count": 109,
   "metadata": {},
   "outputs": [
    {
     "name": "stdout",
     "output_type": "stream",
     "text": [
      "55\n",
      "25\n"
     ]
    }
   ],
   "source": [
    "def addall(a):\n",
    "    return sum(i for i in a)\n",
    "\n",
    "def addallodd(a):\n",
    "    return sum(i for i in a if i%2 == 1)\n",
    "\n",
    "a = [1,2,3,4,5,6,7,8,9,10]\n",
    "\n",
    "print(addall(a))\n",
    "print(addallodd(a))\n"
   ]
  },
  {
   "cell_type": "markdown",
   "metadata": {},
   "source": [
    "addall함수는 내장함수 sum()을 이용하여 리스트 내포 방식으로 a의 원소를 하나씩 더해주고 \n",
    "addallodd함수는 if문으로 조건을 주어 a의 원소중 홀수 인것만 더해준다. "
   ]
  },
  {
   "cell_type": "markdown",
   "metadata": {},
   "source": [
    "# 문제 6. 다음 코드를 보고 물음에 답하시오."
   ]
  },
  {
   "cell_type": "code",
   "execution_count": 112,
   "metadata": {},
   "outputs": [
    {
     "name": "stdout",
     "output_type": "stream",
     "text": [
      "{'low': [1, 2, 3], 'high': [4, 5, 6]}\n",
      "{'low': [1, 2, 3], 'high': [4, 5, 6]}\n",
      "{'low': [1, 2, 3], 'high': [4, 5, 6]}\n",
      "\n",
      "{'low': [10, 20, 30], 'high': [4, 500, 6]}\n",
      "{'low': [10, 20, 30], 'high': [4, 500, 6]}\n",
      "{'low': [1, 2, 3], 'high': [4, 500, 6]}\n"
     ]
    }
   ],
   "source": [
    "L1 = [1, 2, 3]\n",
    "L2 = [4, 5, 6]\n",
    "d = {'low':L1, 'high':L2}\n",
    "e = d\n",
    "f = d.copy()\n",
    "print(d)\n",
    "print(e)\n",
    "print(f)\n",
    "print()\n",
    "d['low'] = [10, 20, 30]\n",
    "d['high'][1] = 500\n",
    "print(d)\n",
    "print(e)\n",
    "print(f)"
   ]
  },
  {
   "cell_type": "markdown",
   "metadata": {},
   "source": [
    "### 1) 위 코드의 수행 결과 d와 e는 항상 같은 결과를 출력한다. 그 이유는 무엇인가?\n",
    "e와 d는 같은 객체를 가리킨다. 따라서 d가 가리키는 객체가 변경되면 e가 가리키는 객체도 변경된다.\n",
    "### 2) 위 코드의 수행 결과 마지막 f의 내용은 다음과 같다. 이 때 'high' 키의 값 내용 중 500이 출력된 이유와 'low' 키의 값 내용 중 [1, 2, 3]이 출력된 이유를 설명하시오 ([hint]: shallow copy 관점에서 설명하시오.)\n",
    "f는 d의 복사본인데 d['low']는 [1,2,3]을 가리키고 있는데 d['low']가 [10,20,30]을 가리키도록 변경했기 때문에 사본인 f는 변경이 없지만\n",
    "d['high'][1]은 d['high']가 가리키는 원소 [4,5,6]을 [4,100,6]으로 변경한 것이기 때문에 사본도 변경된다."
   ]
  },
  {
   "cell_type": "markdown",
   "metadata": {},
   "source": [
    "# 문제 7. 사전 d = {'one':1, 'two':2, 'three':3, 'four':4, 'five':5}가 주어졌을 때 다음 요구사항에 맞는 코드를 제시하시오\n",
    "[참고]: d.keys(), d.values()를 통해 리스트를 얻어낸 후 리스트가 지니고 있는 sort(cmp=None, key=None, reverse=False)함수를 활용하시오.\n",
    "##### 1) 키의 알파벳 오름차순 순서대로 튜플 (키, 값)을 차례대로 출력하시오."
   ]
  },
  {
   "cell_type": "code",
   "execution_count": 3,
   "metadata": {},
   "outputs": [
    {
     "name": "stdout",
     "output_type": "stream",
     "text": [
      "[('five', 5), ('four', 4), ('one', 1), ('three', 3), ('two', 2)]\n"
     ]
    }
   ],
   "source": [
    "d = {'one':1,'two':2,'three':3,'four':4,'five':5}\n",
    "\n",
    "a = d.items()\n",
    "print(sorted(a,key = None,reverse = False))\n"
   ]
  },
  {
   "cell_type": "markdown",
   "metadata": {},
   "source": [
    "기본값이 키값으로 되어있기 때문에 reverse = False이면 알파벳 오름차순으로 정렬한다."
   ]
  },
  {
   "cell_type": "markdown",
   "metadata": {},
   "source": [
    "##### 2) 키의 알파벳 내림차순 순서대로 튜플 (키, 값)을 차례대로 출력하시오."
   ]
  },
  {
   "cell_type": "code",
   "execution_count": 150,
   "metadata": {},
   "outputs": [
    {
     "name": "stdout",
     "output_type": "stream",
     "text": [
      "[('two', 2), ('three', 3), ('one', 1), ('four', 4), ('five', 5)]\n"
     ]
    }
   ],
   "source": [
    "d = {'one':1,'two':2,'three':3,'four':4,'five':5}\n",
    "\n",
    "a = d.items()\n",
    "print(sorted(a,reverse = True))"
   ]
  },
  {
   "cell_type": "markdown",
   "metadata": {},
   "source": [
    "기본값이 키값으로 되어있기 때문에 reverse = True이면 알파벳 내림차순으로 정렬한다."
   ]
  },
  {
   "cell_type": "markdown",
   "metadata": {},
   "source": [
    "##### 3) 값의 오름차순 순서대로 튜플 (키, 값)을 차례대로 출력하시오."
   ]
  },
  {
   "cell_type": "code",
   "execution_count": 13,
   "metadata": {},
   "outputs": [
    {
     "name": "stdout",
     "output_type": "stream",
     "text": [
      "[('one', 1), ('two', 2), ('three', 3), ('four', 4), ('five', 5)]\n"
     ]
    }
   ],
   "source": [
    "\n",
    "\n",
    "d = {'one':1,'two':2,'three':3,'four':4,'five':5}\n",
    "\n",
    "c = d.items()\n",
    "\n",
    "print(sorted(d.items(), key=lambda x: x[1]))\n",
    "\n",
    "\n"
   ]
  },
  {
   "cell_type": "markdown",
   "metadata": {},
   "source": [
    "lambda 인자 : 리턴값을 통해 x[1]즉 값을 통해 비교한다."
   ]
  },
  {
   "cell_type": "markdown",
   "metadata": {},
   "source": [
    "##### 4) 값의 내림차순 순서대로 튜플 (키, 값)을 차례대로 출력하시오."
   ]
  },
  {
   "cell_type": "code",
   "execution_count": 12,
   "metadata": {},
   "outputs": [
    {
     "name": "stdout",
     "output_type": "stream",
     "text": [
      "[('five', 5), ('four', 4), ('three', 3), ('two', 2), ('one', 1)]\n"
     ]
    }
   ],
   "source": [
    "d = {'one':1,'two':2,'three':3,'four':4,'five':5}\n",
    "\n",
    "c = d.items()\n",
    "\n",
    "print(sorted(d.items(), key=lambda x: x[1] ,reverse = True))"
   ]
  },
  {
   "cell_type": "markdown",
   "metadata": {},
   "source": [
    "위와 마찬가지로 값을 통해 비교를 하며 reverse = True를 통해 내림차순 정렬한다."
   ]
  },
  {
   "cell_type": "markdown",
   "metadata": {},
   "source": [
    "# 문제 8. [ACM-ICPC 문제 1673번] 치킨쿠폰"
   ]
  },
  {
   "cell_type": "markdown",
   "metadata": {},
   "source": [
    "강민이는 치킨 한 마리를 주문할 수 있는 치킨 쿠폰을 n장 가지고 있다. 이 치킨집에서는 치킨을 한 마리 주문할 때마다 도장을 하나씩 찍어 주는데, 도장을 k개 모으면 치킨 쿠폰 한 장으로 교환할 수 있다.\n",
    "\n",
    "강민이가 지금 갖고 있는 치킨 쿠폰으로 치킨을 최대 몇 마리나 먹을 수 있는지 구하여라. 단, 치킨을 주문하기 위해서는 반드시 치킨 쿠폰을 갖고 있어야 한다."
   ]
  },
  {
   "cell_type": "code",
   "execution_count": null,
   "metadata": {},
   "outputs": [
    {
     "name": "stdout",
     "output_type": "stream",
     "text": [
      "10 2\n",
      "19\n",
      "20 3\n",
      "29\n",
      "30 3\n",
      "44\n",
      "100 5\n",
      "124\n"
     ]
    }
   ],
   "source": [
    "try:\n",
    "    while 1:\n",
    "        n,k = input().split()\n",
    "\n",
    "        n = int(n)\n",
    "        k = int(k)\n",
    "\n",
    "        c = n\n",
    "        while(c>=k):\n",
    "                z=int(c/k)\n",
    "                c=int(c%k)\n",
    "                n+=z\n",
    "                c+=z\n",
    "\n",
    "        print (n)\n",
    "except:exit()"
   ]
  },
  {
   "cell_type": "markdown",
   "metadata": {},
   "source": [
    "![abc](https://github.com/yugidae/2015136082/blob/master/%EC%BA%A1%EC%B2%98111.PNG?raw=true)"
   ]
  },
  {
   "cell_type": "markdown",
   "metadata": {},
   "source": [
    "위의 코드를 예시를 들어 설명하면 n = 100 k = 5로 가정하자.\n",
    "먼저 100개의 쿠폰으로 100마리를 시키면 100개의 도장을 얻을 수 있다.\n",
    "k = 5이기 때문에 도장 5개로 치킨 1마리를 먹을 수 있다.\n",
    "100개의 도장으로 20마리의 추가 치킨을 먹고 20개의 도장을 또 받는다.\n",
    "\n",
    "20 마리의 치킨을 z값에 저장하고 기존의 n의 100값과 더하여 총 120마리가 된다.\n",
    "c는 100 % 5를 의미한다 위의 예시에서는 0이된다. 즉 치킨을 시키고 남은 도장의 개수가 없다는 것이다.\n",
    "c의 값에 20개의 도장의 개수를 저장한다.\n",
    "\n",
    "while문을 통해 다시 반복하여 20마리의 치킨을 주문했을때 받은 20개의 도장을 통해 \n",
    "4마리의 추가 치킨을 시킨다. 이것을 z에 저장하고 다시 n에 더하면 총 124마리가 된다.\n",
    "4마리를 시키면서 4개의 도장을 받았으나 치킨 1마리시키는데 5개의 도장이 필요하기 때문에 더이상 치킨의 주문은 불가하다. \n",
    "\n",
    "while문을 종료시킨다."
   ]
  },
  {
   "cell_type": "markdown",
   "metadata": {},
   "source": [
    "# 문제 9. [Incremental Project] "
   ]
  },
  {
   "cell_type": "markdown",
   "metadata": {},
   "source": [
    "### 이전 Assignment 2의 마지막 문제는 웹 URL로 지정된 웹페이지를 문자열로 가져와 모든 HTML 태그를 제외한 순수 텍스트를 얻어내고 그 안에 존재하는 단어를 추출하고 단어들의 총 개수를 출력하는 프로그램을 작성하는 것이었다. 이번에는 그 마지막 숙제를 그대로 확장하여 웹 URL로 지정된 웹페이지 내 순수 텍스트 안에 존재하는 각 단어들에 대해 다음 요구사항 대로 출력하는 프로그램을 작성하시오."
   ]
  },
  {
   "cell_type": "markdown",
   "metadata": {},
   "source": [
    "##### 요구사항 1. CSS와 Javascript 내용도 모두 제거하시오 (이전 숙제에서 이미 제외하였다면 본 요구사항 무시)\n",
    "\n",
    "##### 요구사항 2. 순수 텍스트 안에 존재하는 단어들에 대해 string 모듈을 활용하여 모든 punctuation (구두문자)를 완벽히 제거하시오.\n",
    "\n",
    "##### 요구사항 3. 각 단어들의 출현빈도를 사전형태로 저장하여 출력하시오.\n",
    "\n",
    "##### 요구사항 4. 다음 5개의 사이트에 대한 단어 출현빈도 결과를 출력하시오.\n",
    "http://cse.koreatech.ac.kr\n",
    "https://www.koreatech.ac.kr\n",
    "http://www.naver.com\n",
    "http://www.daum.net\n",
    "http://www.nytimes.com"
   ]
  },
  {
   "cell_type": "code",
   "execution_count": 3,
   "metadata": {},
   "outputs": [
    {
     "name": "stdout",
     "output_type": "stream",
     "text": [
      "<!DOCTYPE html>\n",
      "<html lang=\"ko\">\n",
      "<head>\n",
      "<!-- META -->\n",
      "<meta charset=\"utf-8\">\n",
      "<meta name=\"Generator\" content=\"XpressEngine\">\n",
      "<meta http-equiv=\"X-UA-Compatible\" content=\"IE=edge\">\n",
      "<!-- TITLE -->\n",
      "<title>컴퓨터공학부</title>\n",
      "<!-- CSS -->\n",
      "<link rel=\"stylesheet\" href=\"/common/css/xe.min.css?20180913173442\" />\n",
      "<link rel=\"stylesheet\" href=\"/layouts/cse/style/prettyPhoto.css?20150805222706\" />\n",
      "<link rel=\"stylesheet\" href=\"/layouts/cse/style/stylemobile.css?20150805222706\" />\n",
      "<link rel=\"stylesheet\" href=\"/layouts/cse/style/mobilenavigation.css?20150805222706\" />\n",
      "<link rel=\"stylesheet\" href=\"/modules/editor/styles/ckeditor_light/style.css?20180913173434\" />\n",
      "<link rel=\"stylesheet\" href=\"/widgets/login_info/skins/cse_login_info_2015/default.login.css?20150420232234\" />\n",
      "<link rel=\"stylesheet\" href=\"/widgets/content_cse/skins/cse_latest_2015/css/widget.css?20150625005943\" />\n",
      "<link rel=\"stylesheet\" href=\"/addons/font_nanum_gothic/font-nanum_gothic.css?20150429141819\" />\n",
      "<link rel=\"stylesheet\" href=\"/files/faceOff/664/070/layout.css?20160523173814\" />\n",
      "<!-- JS -->\n",
      "<script>\n",
      "var current_url = \"https://cse.koreatech.ac.kr/\";\n",
      "var request_uri = \"https://cse.koreatech.ac.kr/\";\n",
      "var current_mid = \"home_2015\";\n",
      "var waiting_message = \"서버에 요청 중입니다. 잠시만 기다려주세요.\";\n",
      "var ssl_actions = new Array();\n",
      "var default_url = \"https://cse.koreatech.ac.kr/\";\n",
      "var http_port = 80;var https_port = 443;var enforce_ssl = true;</script>\n",
      "<!--[if lt IE 9]><script src=\"/common/js/jquery-1.x.min.js?20180913173442\"></script>\n",
      "<![endif]--><!--[if gte IE 9]><!--><script src=\"/common/js/jquery.min.js?20180913173442\"></script>\n",
      "<!--<![endif]--><script src=\"/common/js/x.min.js?20180913173442\"></script>\n",
      "<script src=\"/common/js/xe.min.js?20180913173442\"></script>\n",
      "<script src=\"/layouts/cse/script/modernizr.js?20150805222706\"></script>\n",
      "<script src=\"/widgets/login_info/skins/cse_login_info_2015/default.login.js?20150420232234\"></script>\n",
      "<script src=\"/widgets/content_cse/skins/cse_latest_2015/js/content_widget.js?20150422211442\"></script>\n",
      "<!-- RSS -->\n",
      "<link rel=\"alternate\" type=\"application/rss+xml\" title=\"Site RSS\" href=\"https://cse.koreatech.ac.kr/rss\" /><link rel=\"alternate\" type=\"application/atom+xml\" title=\"Site Atom\" href=\"https://cse.koreatech.ac.kr/atom\" /><!-- ICON -->\n",
      "<link rel=\"shortcut icon\" href=\"https://cse.koreatech.ac.kr/files/attach/xeicon/favicon.ico\" />\n",
      "\n",
      "<link rel=\"canonical\" href=\"https://cse.koreatech.ac.kr/\" />\n",
      "<meta property=\"og:locale\" content=\"ko_KR\" />\n",
      "<meta property=\"og:type\" content=\"website\" />\n",
      "<meta property=\"og:url\" content=\"https://cse.koreatech.ac.kr/\" />\n",
      "<meta property=\"og:title\" content=\"컴퓨터공학부\" />\n",
      "<link href='https://fonts.googleapis.com/css?family=Raleway:400,700,300,900' rel='stylesheet' type='text/css' />\n",
      "<link href='https://fonts.googleapis.com/css?family=Nunito:400,300,700' rel='stylesheet' type='text/css' />\n",
      "<link rel=\"stylesheet\" href=\"//fonts.googleapis.com/earlyaccess/nanumgothic.css\" />\n",
      "<meta charset=\"utf-8\" />\n",
      "<meta name=\"viewport\" content=\"width=device-width, initial-scale=1.0\" />\n",
      "<meta name=\"description\" content=\"Website Description\" />\n",
      "<meta name=\"keywords\" content=\"Website Keywords\" /><script>\n",
      "//<![CDATA[\n",
      "xe.current_lang = \"ko\";\n",
      "xe.cmd_find = \"찾기\";\n",
      "xe.cmd_cancel = \"취소\";\n",
      "xe.cmd_confirm = \"확인\";\n",
      "xe.msg_no_root = \"루트는 선택 할 수 없습니다.\";\n",
      "xe.msg_no_shortcut = \"바로가기는 선택 할 수 없습니다.\";\n",
      "xe.msg_select_menu = \"대상 메뉴 선택\";\n",
      "//]]>\n",
      "</script>\n",
      "</head>\n",
      "<body>\n",
      "<!DOCTYPE html>\n",
      "<html lang=\"ko\">\n",
      "<head>\n",
      "\t\n",
      "\t<title>Schoolfun - Study and Fun</title>\n",
      "\t\n",
      "\t\n",
      "\t\n",
      "\t\t\n",
      "\t\n",
      "\t\n",
      "\t\t<!--  -->\n",
      "\t\t\t\n",
      "</head>\n",
      "<body class=\"\">\n",
      "<header id=\"main-header\" class=\"clearfix\">\n",
      "\t<div id=\"header-full\" class=\"clearfix\">\n",
      "\t\t<div id=\"header\" class=\"clearfix\">\n",
      "\t\t\t<a href=\"#nav\" class=\"open-menu\">\n",
      "\t\t\t\t<span class=\"icon-bar\"></span>\n",
      "\t\t\t\t<span class=\"icon-bar\"></span>\n",
      "\t\t\t\t<span class=\"icon-bar\"></span>\n",
      "\t\t\t</a>\n",
      "\t\t\t<a href=\"https://cse.koreatech.ac.kr/\" id=\"logo\"><img src=\"/layouts/cse/images/cse_logo.png\" data-retina=\"images/cse_logo.png\" alt=\"School Fun - WordPress Theme\" /></a>\n",
      "\t\t\t<aside id=\"header-content\">\n",
      "\t\t\t\t<!--\n",
      "\t\t\t\t<form method=\"post\" action=\"#\" id=\"searchform\"><input type=\"hidden\" name=\"error_return_url\" value=\"/\" /><input type=\"hidden\" name=\"act\" value=\"\" /><input type=\"hidden\" name=\"mid\" value=\"home_2015\" /><input type=\"hidden\" name=\"vid\" value=\"\" />\n",
      "\t\t\t\t\t<div>\t\t\t\t\t</div>\n",
      "\t\t\t\t</form>\n",
      "\t\t\t\t-->\n",
      "\t\t\t\t<ul id=\"nav-header\" style=\"\">\t\t\t\t\t\n",
      "\t\t\t\t\t<li><div class=\"xe-widget-wrapper \" style=\"\"><div style=\"*zoom:1;padding:0px 0px 0px 0px !important;\"><form id=\"fo_login_widget\" action=\"https://cse.koreatech.ac.kr/index.php?act=procMemberLogin\" method=\"post\"  class=\"account\"><input type=\"hidden\" name=\"error_return_url\" value=\"/\" /><input type=\"hidden\" name=\"mid\" value=\"home_2015\" /><input type=\"hidden\" name=\"vid\" value=\"\" /><input type=\"hidden\" name=\"ruleset\" value=\"@login\" />\n",
      "\t<a href=\"#acField\">로그인</a>\n",
      "\t<fieldset id=\"acField\">\n",
      "\t\t<h2>로그인</h2>\n",
      "\t\t<input type=\"hidden\" name=\"act\" value=\"procMemberLogin\" />\n",
      "\t\t<input type=\"hidden\" name=\"success_return_url\" value=\"/\" />\n",
      "\t\t<input type=\"hidden\" name=\"xe_validator_id\" value=\"widgets/login_info/skins/default/login_form/1\" />\n",
      "\t\t\t\t<div class=\"idpw\">\n",
      "\t\t\t<label for=\"user_id\">아이디</label>\t\t\t<input name=\"user_id\" id=\"user_id\" type=\"text\" required />\t\t\t\t\t\t\t\t\t<label for=\"user_pw\">비밀번호</label>\n",
      "\t\t\t<input name=\"password\" id=\"user_pw\" type=\"password\" required />\n",
      "\t\t\t<p class=\"keep\">\n",
      "\t\t\t\t<input type=\"checkbox\" name=\"keep_signed\" id=\"keep_signed\" value=\"Y\" />\n",
      "\t\t\t\t<label for=\"keep_signed\">로그인 유지</label>\n",
      "\t\t\t</p>\n",
      "\t\t\t<p class=\"warning\">브라우저를 닫더라도 로그인이 계속 유지될 수 있습니다. 로그인 유지 기능을 사용할 경우 다음 접속부터는 로그인할 필요가 없습니다. 단, 게임방, 학교 등 공공장소에서 이용 시 개인정보가 유출될 수 있으니 꼭 로그아웃을 해주세요.</p>\n",
      "\t\t</div>\n",
      "\t\t<input type=\"submit\" value=\"로그인\" />\n",
      "\t\t<ul class=\"help\">\n",
      "\t\t\t<li><a href=\"https://cse.koreatech.ac.kr/index.php?mid=home_2015&amp;act=dispMemberSignUpForm\">회원가입</a></li>\n",
      "\t\t\t<li><a href=\"https://cse.koreatech.ac.kr/index.php?mid=home_2015&amp;act=dispMemberFindAccount\">ID/PW 찾기</a></li>\n",
      "\t\t</ul>\n",
      "\t</fieldset>\n",
      "</form>\n",
      "</div></div></li>\n",
      "\t\t\t\t</ul>\n",
      "\t\t\t\t<h3 id=\"slogan\" style=\"font-family:'Nanum Gothic', serif\">IT 교육의 글로벌 메카!<br/>한국기술교육대학교 컴퓨터공학부</h3>\n",
      "\t\t\t</aside>\n",
      "\t\t</div>\n",
      "\t</div>\n",
      "\t<nav id=\"nav\" class=\"clearfix\">\n",
      "\t\t<a href=\"#\" class=\"close-menu-big\">Close</a>\n",
      "\t\t<div id=\"nav-container\">\n",
      "\t\t\t<a href=\"#\" class=\"close-menu\">\n",
      "\t\t\t\t<span class=\"icon-bar\"></span>\n",
      "\t\t\t\t<span class=\"icon-bar\"></span>\n",
      "\t\t\t\t<span class=\"icon-bar\"></span>\n",
      "\t\t\t</a>\n",
      "\t\t\t<ul id=\"nav-main\">\n",
      "\t\t\t\t\t\t\t\t<li>\n",
      "\t\t\t\t\t\t\t\t\t\t<a href=\"https://cse.koreatech.ac.kr/intro_home_2015\" >소개</a>\n",
      "\t\t\t\t\t\t\t\t\t\t\n",
      "\t\t\t\t</li>\n",
      "\t\t\t\t\t\t\t\t\t\t\t\t\t<li>\n",
      "\t\t\t\t\t\t\t\t\t\t<a href=\"https://cse.koreatech.ac.kr/page_KbyV58\" >구성원소개</a>\n",
      "\t\t\t\t\t\t\t\t\t\t\n",
      "\t\t\t\t</li>\n",
      "\t\t\t\t\t\t\t\t\t\t\t\t\t<li>\n",
      "\t\t\t\t\t\t\t\t\t\t<a href=\"https://cse.koreatech.ac.kr/page_izgw21\" >학사안내</a>\n",
      "\t\t\t\t\t\t\t\t\t\t\n",
      "\t\t\t\t</li>\n",
      "\t\t\t\t\t\t\t\t\t\t\t\t\t<li>\n",
      "\t\t\t\t\t\t\t\t\t\t<a href=\"#\">입학</a>\n",
      "\t\t\t\t\t<ul>\n",
      "                        <li><a href=\"http://www.koreatech.ac.kr/admission.do\" target=\"_blank\">학부</a></li>\n",
      "                        <li><a href=\"http://www.koreatech.ac.kr/grd/sub02_01_01_01.do\" target=\"_blank\">대학원</a></li>\n",
      "                    </ul>\n",
      "\t\t\t\t\t\t\t\t\t\t\n",
      "\t\t\t\t</li>\n",
      "\t\t\t\t\t\t\t\t\t\t\t\t\t<li>\n",
      "\t\t\t\t\t\t\t\t\t\t<a href=\"https://cse.koreatech.ac.kr/notice\" >학부광장</a>\n",
      "\t\t\t\t\t\t\t\t\t\t\n",
      "\t\t\t\t</li>\n",
      "\t\t\t\t\t\t\t\t\t\t\t\t\t<li>\n",
      "\t\t\t\t\t\t\t\t\t\t<a href=\"https://cse.koreatech.ac.kr/pds\" >자료실</a>\n",
      "\t\t\t\t\t\t\t\t\t\t\n",
      "\t\t\t\t</li>\n",
      "\t\t\t\t\t\t\t\t\t\t\t\t\t<li>\n",
      "\t\t\t\t\t\t\t\t\t\t<a href=\"https://cse.koreatech.ac.kr/page_birW64\" >대학원</a>\n",
      "\t\t\t\t\t\t\t\t\t\t\n",
      "\t\t\t\t</li>\n",
      "\t\t\t\t\t\t\t\t\t\t\t\t\t<li>\n",
      "\t\t\t\t\t\t\t\t\t\t<a href=\"https://cse.koreatech.ac.kr/page_vBGH80\" >공학교육인증</a>\n",
      "\t\t\t\t\t\t\t\t\t\t\n",
      "\t\t\t\t</li>\n",
      "\t\t\t\t\t\t\t\t\t\t\t\t\t<li>\n",
      "\t\t\t\t\t\t\t\t\t\t<a href=\"https://cse.koreatech.ac.kr/graduate\" >학부서비스</a>\n",
      "\t\t\t\t\t\t\t\t\t\t\n",
      "\t\t\t\t</li>\n",
      "\t\t\t\t\t\t\t\t\t\t\t\t\t\n",
      "\t\t\t</ul>\n",
      "                        \t\t\t<a href=\"https://cse.koreatech.ac.kr/index.php?mid=home_2015&amp;act=dispMemberSignUpForm\" id=\"button-registration\">Registration</a>\n",
      "                        \t\t</div>\n",
      "\t</nav>\n",
      "</header>      \n",
      "\t        \t        \n",
      "<!-- main image tab start -->\n",
      "<div id=\"slideshow-tabs\" class=\"ui-tabs ui-widget ui-widget-content ui-corner-all\">\n",
      "    <div id=\"panel-tabs\" class=\"clearfix\">\n",
      "        <ul class=\"nav-tabs-slideshow ui-tabs-nav ui-helper-reset ui-helper-clearfix ui-widget-header ui-corner-all\" role=\"tablist\">\n",
      "            <li class=\"ui-state-default ui-corner-top ui-tabs-active ui-state-active\" role=\"tab\" tabindex=\"0\" aria-controls=\"panel-1\" aria-labelledby=\"ui-id-1\" aria-selected=\"true\"><a href=\"#panel-1\" class=\"ui-tabs-anchor\" role=\"presentation\" tabindex=\"-1\" id=\"ui-id-1\"><strong>컴퓨터공학부</strong><br>\n",
      "                <span>School of Computer Science and Engineering</span>\n",
      "                </a>\n",
      "            </li>\n",
      "            <li class=\"ui-state-default ui-corner-top\" role=\"tab\" tabindex=\"-1\" aria-controls=\"panel-2\" aria-labelledby=\"ui-id-2\" aria-selected=\"false\">\n",
      "                <a href=\"#panel-2\" class=\"ui-tabs-anchor\" role=\"presentation\" tabindex=\"-1\" id=\"ui-id-2\"><strong>IT 융합소프트웨어 인력양성사업</strong><br>\n",
      "                <span>CK (Creative Korea)-I</span>\n",
      "                </a>\n",
      "            </li>\n",
      "            <li class=\"ui-state-default ui-corner-top\" role=\"tab\" tabindex=\"-1\" aria-controls=\"panel-3\" aria-labelledby=\"ui-id-3\" aria-selected=\"false\">\n",
      "                <a href=\"#panel-3\" class=\"ui-tabs-anchor\" role=\"presentation\" tabindex=\"-1\" id=\"ui-id-3\"><strong>교육역량강화사업 온라인 컨텐츠</strong><br>\n",
      "                <span>Online Contents for Education Capability Empowerment</span>\n",
      "                </a>\n",
      "            </li>\n",
      "        </ul>\n",
      "    </div>\n",
      "\t<div class=\"ui-tabs-panel ui-widget-content ui-corner-bottom\" id=\"panel-1\" style=\"background-image: url(layouts/cse/images/kut1.png); display: block; background-position: 50% 0px; background-repeat: no-repeat no-repeat;\" aria-labelledby=\"ui-id-1\" role=\"tabpanel\" aria-expanded=\"true\" aria-hidden=\"false\">\n",
      "        <div class=\"tabs-blur no-blur\" style=\"background:url(http://placehold.it/2000x620) no-repeat 50% 0\">\n",
      "        </div>\n",
      "        <div class=\"tabs-container\">\n",
      "            <article>\n",
      "                <h2>IT 교육의 글로벌 메카</h2>\n",
      "                <p>한국기술교육대학교 컴퓨터공학부 홈페이지에 오신 것을<br/>환영합니다!</p>\n",
      "            </article>\n",
      "        </div>\n",
      "    </div>\n",
      "    <div class=\"ui-tabs-panel ui-widget-content ui-corner-bottom\" id=\"panel-2\" style=\"background-image: url(layouts/cse/images/kut2.png); display: none; background-position: 50% 0px; background-repeat: no-repeat no-repeat;\" aria-labelledby=\"ui-id-2\" role=\"tabpanel\" aria-expanded=\"false\" aria-hidden=\"true\">\n",
      "        <div class=\"tabs-blur no-blur\" style=\"background:url(http://placehold.it/2000x620) no-repeat 50% 0\">\n",
      "        </div>\n",
      "\t<div class=\"tabs-container\">\n",
      "            <article>\n",
      "                <h2>IT 융합소프트웨어 인력양성사업</h2>\n",
      "                <p>글로벌 수준의 IT전문인력 양성<br/>\n",
      "IT융합분야에 대한 국제적인 경쟁력 고취</p>\n",
      "                <a href=\"http://itcsw.koreatech.ac.kr\" target=\"_blank\" class=\"button-more-slide\">바로가기</a>\n",
      "            </article>\n",
      "        </div>\n",
      "    </div>\n",
      "    <div class=\"ui-tabs-panel ui-widget-content ui-corner-bottom\" id=\"panel-3\" style=\"background-image: url(layouts/cse/images/kut3.png); display: none; background-position: 50% 0px; background-repeat: no-repeat no-repeat;\" aria-labelledby=\"ui-id-3\" role=\"tabpanel\" aria-expanded=\"false\" aria-hidden=\"true\">\n",
      "        <div class=\"tabs-blur no-blur\" style=\"background:url(http://placehold.it/2000x620) no-repeat 50% 0\">\n",
      "        </div>\n",
      "\t<div class=\"tabs-container\">\n",
      "            <article>\n",
      "                <h2>교육역량강화사업 컨텐츠</h2>\n",
      "                <p>교육역량강화사업 온라인 컨텐츠를 소개합니다.</p>\n",
      "                <a href=\"http://220.68.64.187\" target=\"_blank\" class=\"button-more-slide\">바로가기</a>\n",
      "            </article>\n",
      "        </div>\n",
      "    </div>\n",
      "</div>\n",
      "<!-- main image tab end -->\n",
      "<div>\n",
      "    <div id=\"content\" class=\"clearfix\">\t\t\n",
      "    <div class=\"xe-widget-wrapper \" style=\"background-position: 0% 0%; margin: 0px; border: 0px solid rgb(0, 0, 0); border-image: none; width: 375px; float: left; background-image: none; background-repeat: repeat repeat;\"><div style=\"*zoom:1;padding:0px 0px 0px 0px !important;\"><div class=\"sidebar-homepage\">\n",
      "<aside class=\"widget-container\">\n",
      "\t<div class=\"widget-wrapper clearfix\">\n",
      "                <h3 class=\"widget-title\"><a href=\"https://cse.koreatech.ac.kr/notice\">공지사항</a></h3>\n",
      "    <ul class=\"widgetA menu news-sidebar\">\n",
      "                    <li class=\"clearfix\" >\n",
      "                                                                                        <h4><a href=\"https://cse.koreatech.ac.kr/85994\" class=\"title\">AR/VR분야 Capston Design 지원 계획 ~ 2018.11.30.(금...</a></h4>\n",
      "                                                                                                                            <span class=\"date-news\">2018-10-29 16:30 16:30</span>\n",
      "                                    </li>\n",
      "                <li class=\"clearfix\" >\n",
      "                                                                                        <h4><a href=\"https://cse.koreatech.ac.kr/85986\" class=\"title\">[특성화] 2018학년도 2학기 운영 강좌 안내</a></h4>\n",
      "                                                                                                                            <span class=\"date-news\">2018-10-29 10:56 10:56</span>\n",
      "                                    </li>\n",
      "                <li class=\"clearfix\" >\n",
      "                                                                                        <h4><a href=\"https://cse.koreatech.ac.kr/85969\" class=\"title\"><span style=\"font-weight:bold\">[특성화] 2018 IT융합 아이디어 경진대회 안내(2학기 ...</span></a></h4>\n",
      "                                                                                                                            <span class=\"date-news\">2018-10-25 15:01 15:01</span>\n",
      "                                    </li>\n",
      "                <li class=\"clearfix\" >\n",
      "                                                                                        <h4><a href=\"https://cse.koreatech.ac.kr/85957\" class=\"title\">[특성화] 2018 IT융합 AR Co-Bot Intensive 캠프 모집 ...</a></h4>\n",
      "                                                                                                                            <span class=\"date-news\">2018-10-22 15:30 15:30</span>\n",
      "                                    </li>\n",
      "                <li class=\"clearfix\" >\n",
      "                                                                                        <h4><a href=\"https://cse.koreatech.ac.kr/85926\" class=\"title\"><span style=\"font-weight:bold\">[졸업작품] 2018 졸업작품 산업체 평가회 결과에 따른 ...</span></a></h4>\n",
      "                                                                                                                            <span class=\"date-news\">2018-10-19 14:09 14:09</span>\n",
      "                                    </li>\n",
      "            </ul>\n",
      "            </div>\n",
      "</aside>\n",
      "</div>\n",
      "</div></div><div class=\"xe-widget-wrapper \" style=\"background-position: 0% 0%; margin: 0px; border: 0px solid rgb(0, 0, 0); border-image: none; width: 375px; float: left; background-image: none; background-repeat: repeat repeat;\"><div style=\"*zoom:1;padding:0px 0px 0px 0px !important;\"><div class=\"sidebar-homepage\">\n",
      "<aside class=\"widget-container\">\n",
      "\t<div class=\"widget-wrapper clearfix\">\n",
      "                <h3 class=\"widget-title\"><a href=\"https://cse.koreatech.ac.kr/freeboard\">자유게시판</a></h3>\n",
      "    <ul class=\"widgetA menu news-sidebar\">\n",
      "                    <li class=\"clearfix\" >\n",
      "                                                                                        <h4><a href=\"https://cse.koreatech.ac.kr/85946\" class=\"title\">★문화의날 행사 공지★</a></h4>\n",
      "                                                                                                                            <span class=\"date-news\">2018-10-19 20:31 20:31</span>\n",
      "                                    </li>\n",
      "                <li class=\"clearfix\" >\n",
      "                                                                                        <h4><a href=\"https://cse.koreatech.ac.kr/85506\" class=\"title\">졸업작품전시회 기간 헤어/메이크업</a></h4>\n",
      "                                                                                                                            <span class=\"date-news\">2018-10-07 14:48 14:48</span>\n",
      "                                    </li>\n",
      "                <li class=\"clearfix\" >\n",
      "                                                                                        <h4><a href=\"https://cse.koreatech.ac.kr/85286\" class=\"title\">※모의토익비 지원 공지※</a></h4>\n",
      "                                                                                                                            <span class=\"date-news\">2018-09-28 09:37 09:37</span>\n",
      "                                    </li>\n",
      "                <li class=\"clearfix\" >\n",
      "                                                                                        <h4><a href=\"https://cse.koreatech.ac.kr/84798\" class=\"title\">ACM-ICPC 예선 신청기간이 얼마 안 남았습니다!</a></h4>\n",
      "                                                                                                                            <span class=\"date-news\">2018-09-13 11:36 11:36</span>\n",
      "                                    </li>\n",
      "                <li class=\"clearfix\" >\n",
      "                                                                                        <h4><a href=\"https://cse.koreatech.ac.kr/84626\" class=\"title\">문화행사 취소 공지</a></h4>\n",
      "                                                                                                                            <span class=\"date-news\">2018-09-10 19:17 19:17</span>\n",
      "                                    </li>\n",
      "            </ul>\n",
      "            </div>\n",
      "</aside>\n",
      "</div>\n",
      "</div></div><div class=\"xe-widget-wrapper \" style=\"background-position: 0% 0%; margin: 0px; border: 0px solid rgb(0, 0, 0); border-image: none; width: 375px; float: left; background-image: none; background-repeat: repeat repeat;\"><div style=\"*zoom:1;padding:0px 0px 0px 0px !important;\"><div class=\"sidebar-homepage\">\n",
      "<aside class=\"widget-container\">\n",
      "\t<div class=\"widget-wrapper clearfix\">\n",
      "                <h3 class=\"widget-title\"><a href=\"https://cse.koreatech.ac.kr/jobboard\">취업게시판</a></h3>\n",
      "    <ul class=\"widgetA menu news-sidebar\">\n",
      "                    <li class=\"clearfix\" >\n",
      "                                                                                        <h4><a href=\"https://cse.koreatech.ac.kr/85974\" class=\"title\">㈜비즈테크파트너스 (LG CNS자회사) 신입 개발직 ~2018...</a></h4>\n",
      "                                                                                                                            <span class=\"date-news\">2018-10-25 16:29 16:29</span>\n",
      "                                    </li>\n",
      "                <li class=\"clearfix\" >\n",
      "                                                                                        <h4><a href=\"https://cse.koreatech.ac.kr/85442\" class=\"title\">[국가보안기술연구소] 정규직 채용</a></h4>\n",
      "                                                                                                                            <span class=\"date-news\">2018-10-04 14:18 14:18</span>\n",
      "                                    </li>\n",
      "                <li class=\"clearfix\" >\n",
      "                                                                                        <h4><a href=\"https://cse.koreatech.ac.kr/85240\" class=\"title\">한글과컴퓨터그룹 2018년 하반기 신입/경력 공채 ~10.10</a></h4>\n",
      "                                                                                                                            <span class=\"date-news\">2018-09-27 13:13 13:13</span>\n",
      "                                    </li>\n",
      "                <li class=\"clearfix\" >\n",
      "                                                                                        <h4><a href=\"https://cse.koreatech.ac.kr/84892\" class=\"title\">[구인]천안 충무병원 전산실</a></h4>\n",
      "                                                                                                                            <span class=\"date-news\">2018-09-18 15:25 15:25</span>\n",
      "                                    </li>\n",
      "                <li class=\"clearfix\" >\n",
      "                                                                                        <h4><a href=\"https://cse.koreatech.ac.kr/84564\" class=\"title\"><span style=\"font-weight:bold\">[정부교육] K-Shield 주니어 교육생 모집(정보보호) ~9.5</span></a></h4>\n",
      "                                                                                                                            <span class=\"date-news\">2018-09-03 07:53 07:53</span>\n",
      "                                    </li>\n",
      "            </ul>\n",
      "            </div>\n",
      "</aside>\n",
      "</div>\n",
      "</div></div><div class=\"xe-widget-wrapper \" style=\"background-position: 0% 0%; margin: 0px; border: 0px solid rgb(0, 0, 0); border-image: none; width: 375px; float: left; background-image: none; background-repeat: repeat repeat;\"><div style=\"*zoom:1;padding:0px 0px 0px 0px !important;\"><div class=\"sidebar-homepage\">\n",
      "<aside class=\"widget-container\">\n",
      "\t<div class=\"widget-wrapper clearfix\">\n",
      "                <h3 class=\"widget-title\"><a href=\"http://platum.kr\">Platum</a></h3>\n",
      "    <ul class=\"widgetA menu news-sidebar\">\n",
      "                    <li class=\"clearfix\" >\n",
      "                                                                                        <h4><a href=\"https://platum.kr/archives/109479\" class=\"title\">표철민 대표 “블록체인 생태계 조성위해 불법만 아니면...</a></h4>\n",
      "                                                                                    <span class=\"icon\"></span>\n",
      "                                                                                    <span class=\"date-news\">2018-10-29 15:50 15:50</span>\n",
      "                                                                </li>\n",
      "                <li class=\"clearfix\" >\n",
      "                                                                                        <h4><a href=\"https://platum.kr/archives/109474\" class=\"title\">아산나눔재단, ‘아산 기업가정신 교육 포럼’ 개최</a></h4>\n",
      "                                                                                    <span class=\"icon\"></span>\n",
      "                                                                                    <span class=\"date-news\">2018-10-29 09:43 09:43</span>\n",
      "                                                                </li>\n",
      "                <li class=\"clearfix\" >\n",
      "                                                                                        <h4><a href=\"https://platum.kr/archives/109467\" class=\"title\">[10월 29일 스타트업 비즈니스 동향] 메쉬코리아, 위드...</a></h4>\n",
      "                                                                                    <span class=\"icon\"></span>\n",
      "                                                                                    <span class=\"date-news\">2018-10-29 09:36 09:36</span>\n",
      "                                                                </li>\n",
      "                <li class=\"clearfix\" >\n",
      "                                                                                        <h4><a href=\"https://platum.kr/archives/109457\" class=\"title\">블록체인 기반 기업용 솔루션 개발 스타트업, ‘블록오...</a></h4>\n",
      "                                                                                    <span class=\"icon\"></span>\n",
      "                                                                                    <span class=\"date-news\">2018-10-29 08:37 08:37</span>\n",
      "                                                                </li>\n",
      "                <li class=\"clearfix\" >\n",
      "                                                                                        <h4><a href=\"https://platum.kr/archives/109446\" class=\"title\">[더팀스 커리어피드] 스타트업 취업의 고수가 되는 방법</a></h4>\n",
      "                                                                                    <span class=\"icon\"></span>\n",
      "                                                                                    <span class=\"date-news\">2018-10-29 08:36 08:36</span>\n",
      "                                                                </li>\n",
      "            </ul>\n",
      "            </div>\n",
      "</aside>\n",
      "</div>\n",
      "</div></div><div class=\"xe-widget-wrapper \" style=\"background-position: 0% 0%; margin: 0px; border: 0px solid rgb(0, 0, 0); border-image: none; width: 375px; float: left; background-image: none; background-repeat: repeat repeat;\"><div style=\"*zoom:1;padding:0px 0px 0px 0px !important;\"><div class=\"sidebar-homepage\">\n",
      "<aside class=\"widget-container\">\n",
      "\t<div class=\"widget-wrapper clearfix\">\n",
      "                <h3 class=\"widget-title\"><a href=\"http://www.etnews.com/\">전자신문</a></h3>\n",
      "    <ul class=\"widgetA menu news-sidebar\">\n",
      "                    <li class=\"clearfix\" >\n",
      "                                                                                        <h4><a href=\"http://www.etnews.com/20181029000575\" class=\"title\">[2018 국정감사]화웨이 \"5G 장비 보안 검증 수용,...</a></h4>\n",
      "                                                                                    <span class=\"icon\"></span>\n",
      "                                                                                    <span class=\"date-news\">2018-10-29 18:41 18:41</span>\n",
      "                                    </li>\n",
      "                <li class=\"clearfix\" >\n",
      "                                                                                        <h4><a href=\"http://www.etnews.com/20181029000338\" class=\"title\">[이슈분석]역차별 해소, 글로벌 동향은</a></h4>\n",
      "                                                                                    <span class=\"icon\"></span>\n",
      "                                                                                    <span class=\"date-news\">2018-10-29 17:00 17:00</span>\n",
      "                                    </li>\n",
      "                <li class=\"clearfix\" >\n",
      "                                                                                        <h4><a href=\"http://www.etnews.com/20181029000423\" class=\"title\">SK텔레콤, 중소기업과 '5G 모세혈관' 고도화 나선다</a></h4>\n",
      "                                                                                    <span class=\"icon\"></span>\n",
      "                                                                                    <span class=\"date-news\">2018-10-29 17:00 17:00</span>\n",
      "                                    </li>\n",
      "                <li class=\"clearfix\" >\n",
      "                                                                                        <h4><a href=\"http://www.etnews.com/20181029000432\" class=\"title\">SK브로드밴드, 세계 3번째 '프로그래매틱' 광고 도입</a></h4>\n",
      "                                                                                    <span class=\"icon\"></span>\n",
      "                                                                                    <span class=\"date-news\">2018-10-29 17:00 17:00</span>\n",
      "                                    </li>\n",
      "                <li class=\"clearfix\" >\n",
      "                                                                                        <h4><a href=\"http://www.etnews.com/20181029000102\" class=\"title\">[이슈분석]글로벌ICT기업 역차별 해소, 5대 분야 ...</a></h4>\n",
      "                                                                                    <span class=\"icon\"></span>\n",
      "                                                                                    <span class=\"date-news\">2018-10-29 17:00 17:00</span>\n",
      "                                    </li>\n",
      "            </ul>\n",
      "            </div>\n",
      "</aside>\n",
      "</div>\n",
      "</div></div><div class=\"xe-widget-wrapper \" style=\"background-position: 0% 0%; margin: 0px; border: 0px solid rgb(0, 0, 0); border-image: none; width: 375px; float: left; background-image: none; background-repeat: repeat repeat;\"><div style=\"*zoom:1;padding:0px 0px 0px 0px !important;\"><div class=\"sidebar-homepage\">\n",
      "<aside class=\"widget-container\">\n",
      "\t<div class=\"widget-wrapper clearfix\">\n",
      "                <h3 class=\"widget-title\"><a href=\"https://techcrunch.com/\">TechCrunch</a></h3>\n",
      "    <ul class=\"widgetA menu news-sidebar\">\n",
      "                    <li class=\"clearfix\" >\n",
      "                                                                                        <h4><a href=\"http://feedproxy.google.com/~r/Techcrunch/~3/x4At8xTWU1E/\" class=\"title\">Here are the 20 games shipping with the PlaySt...</a></h4>\n",
      "                                                                                    <span class=\"icon\"></span>\n",
      "                                                                                    <span class=\"date-news\">2018-10-29 22:08 22:08</span>\n",
      "                                    </li>\n",
      "                <li class=\"clearfix\" >\n",
      "                                                                                        <h4><a href=\"http://feedproxy.google.com/~r/Techcrunch/~3/Fku_fyZiSmA/\" class=\"title\">DJI releases a modified Mavic 2 drone aimed at...</a></h4>\n",
      "                                                                                    <span class=\"icon\"></span>\n",
      "                                                                                    <span class=\"date-news\">2018-10-29 22:00 22:00</span>\n",
      "                                    </li>\n",
      "                <li class=\"clearfix\" >\n",
      "                                                                                        <h4><a href=\"http://feedproxy.google.com/~r/Techcrunch/~3/Xp2l4oSlEqA/\" class=\"title\">Blue Apron gets a much-needed boost with Jet.c...</a></h4>\n",
      "                                                                                    <span class=\"icon\"></span>\n",
      "                                                                                    <span class=\"date-news\">2018-10-29 21:57 21:57</span>\n",
      "                                    </li>\n",
      "                <li class=\"clearfix\" >\n",
      "                                                                                        <h4><a href=\"http://feedproxy.google.com/~r/Techcrunch/~3/xVjsahQL7H8/\" class=\"title\">IBM is betting the farm on Red Hat — and it be...</a></h4>\n",
      "                                                                                    <span class=\"icon\"></span>\n",
      "                                                                                    <span class=\"date-news\">2018-10-29 21:46 21:46</span>\n",
      "                                    </li>\n",
      "                <li class=\"clearfix\" >\n",
      "                                                                                        <h4><a href=\"http://feedproxy.google.com/~r/Techcrunch/~3/3sEtlsTQUZg/\" class=\"title\">China’s Didi Chuxing is poised to expand into ...</a></h4>\n",
      "                                                                                    <span class=\"icon\"></span>\n",
      "                                                                                    <span class=\"date-news\">2018-10-29 21:30 21:30</span>\n",
      "                                    </li>\n",
      "            </ul>\n",
      "            </div>\n",
      "</aside>\n",
      "</div>\n",
      "</div></div>    </div>\n",
      "</div>\n",
      "<!-- main page footer start -->\n",
      "<footer id=\"main-footer\">\n",
      "    <!--\n",
      "    <div id=\"blur-top\">\n",
      "        <a href=\"#\" id=\"link-back-top\">Back to Top</a>\n",
      "    </div>\n",
      "    <div id=\"slogan-footer\">\n",
      "        <h4>Leading Together <span>for</span> Brighter Future</h4>\n",
      "    </div>\n",
      "    -->\n",
      "    <div id=\"footer-content\" class=\"clearfix\">\n",
      "        <div id=\"footer-container\">\n",
      "            <div id=\"sidebar-footer-left\" class=\"sidebar-footer\">\n",
      "                <aside class=\"widget-container\">\n",
      "                    <div class=\"widget-wrapper clearfix\">\n",
      "                        <h3 class=\"widget-title\">Quick Navigation</h3>\n",
      "                        <ul>\n",
      "                            <li><a href=\"http://www.koreatech.ac.kr\" target=\"_blank\">한국기술교육대학교 홈페이지</a></li>\n",
      "                            <li><a href=\"https://email.koreatech.ac.kr\" target=\"_blank\">한국기술교육대학교 WEBMAIL</a></li>\n",
      "                            <li><a href=\"http://www.e-koreatech.ac.kr\" target=\"_blank\">한국기술교육대학교 온라인 평생교육원</a></li>\n",
      "                            <li><a href=\"http://itcsw.koreatech.ac.kr\" target=\"_blank\">IT 융합소프트웨어 인력양성사업</a></li>\n",
      "                            <li><a href=\"http://csenas.koreatech.ac.kr:5000\" target=\"_blank\">컴퓨터공학부 교직원 업무 자료실</a></li>\n",
      "                            <!--<li><a href=\"https://cse.koreatech.ac.kr/?mid=portfolio\" target=\"_blank\">컴퓨터공학부 포트폴리오</a></li>-->\n",
      "                            \n",
      "                        </ul>\n",
      "                    </div>\n",
      "                </aside>\n",
      "            </div>\n",
      "            <div id=\"sidebar-footer-middle\" class=\"sidebar-footer\">\n",
      "                <aside class=\"widget-container\">\n",
      "                    <div class=\"widget-wrapper clearfix\">\n",
      "                        <h3 class=\"widget-title\">Campus Location</h3>\n",
      "                        <article class=\"text-widget \">\n",
      "\t                        <iframe class=\"map-area\" src=\"https://www.google.com/maps/embed?pb=!1m18!1m12!1m3!1d3196.369861062225!2d127.28035150000001!3d36.761693699999995!2m3!1f0!2f0!3f0!3m2!1i1024!2i768!4f13.1!3m3!1m2!1s0x357b2ac0a5190d0f%3A0x24cddeffd416ef74!2z7LKc7JWI7IucIOuzkeyynOuptCDtlZzqta3quLDsiKDqtZDsnKHrjIDtlZnqtZAg6rO17ZWZNOq0gA!5e0!3m2!1sko!2skr!4v1428058842867\" width=\"600\" height=\"450\" frameborder=\"0\" style=\"border:0\"></iframe><br/>\n",
      "                    </div>\n",
      "                </aside>\n",
      "            </div>\n",
      "<div id=\"sidebar-footer-right\" class=\"sidebar-footer\">\n",
      "                <aside class=\"widget-container\">\n",
      "                    <h3 class=\"widget-title\">Contact CSE</h3>\n",
      "                <p>충청남도 천안시 동남구 병천면 충절로 1600<br/>한국기술교육대학교 컴퓨터공학부 학과사무실 <br/>TEL (041) 560 1460 ~ 1461<br/> FAX (041) 560 1462\n",
      "                <ul id=\"list-social\" class=\"clearfix\">\n",
      "                    <li id=\"icon-facebook\"><a href=\"https://facebook.com/koreatech.cse.edu\" target=\"_blank\">Facebook</a></li>\n",
      "                    <!--<li id=\"icon-twitter\"><a href=\"#\">Twitter</a></li>\n",
      "                    <li id=\"icon-gplus\"><a href=\"#\">Google Plus</a></li>\n",
      "                    <li id=\"icon-linkedin\"><a href=\"#\">Linkedin</a></li>-->\n",
      "                </ul>\n",
      "                </aside>\n",
      "            </div>\n",
      "        </div>\n",
      "    </div>\n",
      "    <div id=\"footer-copyright\">\n",
      "        <div id=\"footer-copyright-content\" class=\"clearfix\">\n",
      "            <a href=\"#\" id=\"logo-footer\"><img src=\"/layouts/cse/images/cse_logo_footer.png\" data-retina=\"images/cse_logo_footer_retina.png\" alt=\"School Fun - University\" /></a>\n",
      "            <p id=\"text-address\">(31253) 충청남도 천안시 동남구 병천면 충절로 1600 (가전리, 한국기술교육대학교) 컴퓨터공학부 </p>\n",
      "            <p id=\"text-copyright\">Copyright © 2015. All rights reserved</p>\n",
      "        </div>\n",
      "    </div>\n",
      "</footer>\n",
      "<!-- main page footer end -->\n",
      "</body>\n",
      "</html>\n",
      "<!-- ETC -->\n",
      "<div class=\"wfsr\"></div>\n",
      "<script src=\"/addons/autolink/autolink.js?20180913173453\"></script><script src=\"/common/js/plugins/ui/jquery-ui.min.js?20180913173444\"></script><script src=\"/common/js/plugins/ui/jquery.ui.datepicker-ko.js?20180913173444\"></script><script src=\"/addons/resize_image/js/resize_image.min.js?20180913173454\"></script><script src=\"/layouts/cse/script/jquery.flexslider.js?20150805222706\"></script><script src=\"/layouts/cse/script/jquery.prettyPhoto.js?20150805222706\"></script><script src=\"/layouts/cse/script/jquery-ui-tabs-rotate.js?20150805222706\"></script><script src=\"/layouts/cse/script/scripts.js?20150821172206\"></script><script src=\"/files/cache/js_filter_compiled/5ad07e2b14b79f1c993c3e4b5ca58660.ko.compiled.js?20180913175854\"></script><script src=\"/files/cache/ruleset/85b80736b3cc92d07570521ad97a31d9.ko.js?20180913175854\"></script></body>\n",
      "</html>\n",
      "\n"
     ]
    }
   ],
   "source": [
    "import requests\n",
    "\n",
    "req = requests.get('http://cse.koreatech.ac.kr')\n",
    "\n",
    "source = req.text"
   ]
  },
  {
   "cell_type": "code",
   "execution_count": 6,
   "metadata": {},
   "outputs": [
    {
     "name": "stdout",
     "output_type": "stream",
     "text": [
      "511\n"
     ]
    }
   ],
   "source": [
    "str = ''\n",
    "count = 0\n",
    "\n",
    "for i in range(len(source)):\n",
    "    \n",
    "    if (source[i] == '<' ):\n",
    "        count = 1\n",
    "    \n",
    "        \n",
    "    if ( source[i] == '>' and count == 1):\n",
    "        count += 1\n",
    "        continue\n",
    "    if ( count == 2 ):\n",
    "        str += source[i]\n",
    "        \n",
    "   \n",
    "        \n",
    "\n",
    "s = str.split()\n",
    "print (len(s))"
   ]
  },
  {
   "cell_type": "markdown",
   "metadata": {},
   "source": [
    "이 문제는 해결하지 못했습니다. 첫번째 요구사항 스크립트의 내용을 지울수 있는방법이 도저히 생각이 안납니다."
   ]
  },
  {
   "cell_type": "markdown",
   "metadata": {},
   "source": [
    "느낀점 : ACM-ICPC 문제 1673번은 문제 자체보다 EOF 처리를 어떻게 해야하는지 잘 몰라서 한참 걸렸던것 같다. jupyter에서는 분명히 잘 실행되는데 채첨을 하면 항상 틀리게 나와서 거의 20번가까이 틀렸던 것 같다. 다른 언어였으면 while(!=EOF)를 통해 쉽게 처리 할 수 있었는데 익숙하지 않은 python으로 하려고 하닌까 상당히 어려웠고 처음에는 무엇이 문제인지도 몰랐다. \n",
    "\n",
    "incremental문제는 상당히 어려워서 결국 포기했다. 첫번째 요구사항에 스크립트 내용을 제거하는것을 도저히 해결할 수가 없었다.\n",
    "incremental문제의 경우 언어를 떠나서 본인의 기본적인 코딩능력이 요구되는것 같다. "
   ]
  },
  {
   "cell_type": "code",
   "execution_count": null,
   "metadata": {},
   "outputs": [],
   "source": []
  }
 ],
 "metadata": {
  "kernelspec": {
   "display_name": "Python 3",
   "language": "python",
   "name": "python3"
  },
  "language_info": {
   "codemirror_mode": {
    "name": "ipython",
    "version": 3
   },
   "file_extension": ".py",
   "mimetype": "text/x-python",
   "name": "python",
   "nbconvert_exporter": "python",
   "pygments_lexer": "ipython3",
   "version": "3.6.5"
  }
 },
 "nbformat": 4,
 "nbformat_minor": 2
}
