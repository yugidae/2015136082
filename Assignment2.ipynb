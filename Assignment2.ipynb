{
 "cells": [
  {
   "cell_type": "markdown",
   "metadata": {},
   "source": [
    "### 1. 다음 6 개의 Expression에 대해 Evaluation 결과 값을 출력하고, 해당 결과가 나온 이유에 대해 설명하시오."
   ]
  },
  {
   "cell_type": "markdown",
   "metadata": {},
   "source": [
    "1) 1 and 2 and 3 and 4"
   ]
  },
  {
   "cell_type": "code",
   "execution_count": 3,
   "metadata": {},
   "outputs": [
    {
     "name": "stdout",
     "output_type": "stream",
     "text": [
      "4\n"
     ]
    }
   ],
   "source": [
    "print (1 and 2 and 3 and 4)"
   ]
  },
  {
   "cell_type": "markdown",
   "metadata": {},
   "source": [
    "and는 and 앞이 true면 뒤에 있는 값이 true/false 인지에 따라 결정된다. 1,2,3 모두 true 값이기 때문에 맨 뒤에 있는 4에 의해 결정되므로 출력시 4가 나온다."
   ]
  },
  {
   "cell_type": "markdown",
   "metadata": {},
   "source": [
    "2) 1 or 2 or 3 or 4"
   ]
  },
  {
   "cell_type": "code",
   "execution_count": 5,
   "metadata": {},
   "outputs": [
    {
     "name": "stdout",
     "output_type": "stream",
     "text": [
      "1\n"
     ]
    }
   ],
   "source": [
    "print (1 or 2 or 3 or 4)"
   ]
  },
  {
   "cell_type": "markdown",
   "metadata": {},
   "source": [
    "or은 앞에 있는 값이 true면 뒤에 있는값에 상관없이 true로 결정되기 때문에 맨 앞의 값이 1, 즉 true 인 경우에는 뒤를 볼 필요없이 true로 결정되기 때문에 1이 출력된다."
   ]
  },
  {
   "cell_type": "markdown",
   "metadata": {},
   "source": [
    "3) 1 and 2 or 3 and 4"
   ]
  },
  {
   "cell_type": "code",
   "execution_count": 7,
   "metadata": {},
   "outputs": [
    {
     "name": "stdout",
     "output_type": "stream",
     "text": [
      "2\n"
     ]
    }
   ],
   "source": [
    "print (1 and 2 or 3 and 4)"
   ]
  },
  {
   "cell_type": "markdown",
   "metadata": {},
   "source": [
    "맨 앞에 1이 true 이기 때문에 and 뒤에 연산을 보고  2가 true기 때문에 or 뒤에 연산은 볼 필요가 없이 true가 되고 2가 출력된다. "
   ]
  },
  {
   "cell_type": "markdown",
   "metadata": {},
   "source": [
    "4) (1 and 2) or (3 and 4)"
   ]
  },
  {
   "cell_type": "code",
   "execution_count": 15,
   "metadata": {},
   "outputs": [
    {
     "name": "stdout",
     "output_type": "stream",
     "text": [
      "2\n"
     ]
    }
   ],
   "source": [
    "print ((1 and 2) or (3 and 4))"
   ]
  },
  {
   "cell_type": "markdown",
   "metadata": {},
   "source": [
    "1 and 2 = 2 / 3 and 4 = 4 이므로 위의 식은 (2 or 4)를 나타낸다. or은 앞의 연산자가 true면 뒤에 연산이 의미가 없으므로 2가 출력된다."
   ]
  },
  {
   "cell_type": "markdown",
   "metadata": {},
   "source": [
    "5) 1 or 2 and 3 or 4"
   ]
  },
  {
   "cell_type": "code",
   "execution_count": 16,
   "metadata": {},
   "outputs": [
    {
     "name": "stdout",
     "output_type": "stream",
     "text": [
      "1\n"
     ]
    }
   ],
   "source": [
    "print (1 or 2 and 3 or 4)"
   ]
  },
  {
   "cell_type": "markdown",
   "metadata": {},
   "source": [
    "연산자 우선순위는 and 가 or보다 높지만 맨 앞에 1 or 에서 1이 항상 true가 때문에 뒤에 연산은 중요하지 않다.\n",
    "따라서 1이 출력된다."
   ]
  },
  {
   "cell_type": "markdown",
   "metadata": {},
   "source": [
    "6) (1 or 2) and (3 or 4)"
   ]
  },
  {
   "cell_type": "code",
   "execution_count": 17,
   "metadata": {},
   "outputs": [
    {
     "name": "stdout",
     "output_type": "stream",
     "text": [
      "3\n"
     ]
    }
   ],
   "source": [
    "print ((1 or 2) and (3 or 4))"
   ]
  },
  {
   "cell_type": "markdown",
   "metadata": {},
   "source": [
    "(1 or 2) 에서 1이 나오고 (3 or 4)에서 3이 나온다. 즉 연산은 (1 and 3)이 나오고 \n",
    "and 연산은 앞이 true면 뒤에 값에 따라 결정되므로 3이 출력된다."
   ]
  },
  {
   "cell_type": "markdown",
   "metadata": {},
   "source": [
    "### 2. 경로에 해당하는 문자열 1개를 입력 받아 그 안에 디렉토리 경로명과 파일명을 분리하여 리스트로 반환하는 함수 div_path(s)를 작성하시오."
   ]
  },
  {
   "cell_type": "code",
   "execution_count": 91,
   "metadata": {},
   "outputs": [
    {
     "name": "stdout",
     "output_type": "stream",
     "text": [
      "enter String : \n",
      "/home/chulsoo/test.txt\n",
      "['/home/chulsoo', 'test.txt']\n"
     ]
    }
   ],
   "source": [
    "\n",
    "def div_path(s):\n",
    "    x = []\n",
    "    x = s.split('/')\n",
    "    x.reverse()\n",
    "    \n",
    "    a = len(x[0])\n",
    "    b = []\n",
    "    b = [s[:-a-1]] + [x[0]]\n",
    "    return b\n",
    "\n",
    "\n",
    "print ('enter String : ')\n",
    "str = input() \n",
    "print (div_path(str))\n",
    "\n",
    "\n",
    "\n",
    "\n",
    " \n",
    "    \n",
    "    "
   ]
  },
  {
   "cell_type": "markdown",
   "metadata": {},
   "source": [
    "입력받은 문자열 s에 저장하고 '/'을 기준으로 분리하여 리스트 x에 넣고 리스트 x를 reverse하면 x[0]이 파일명이 된다."
   ]
  },
  {
   "cell_type": "markdown",
   "metadata": {},
   "source": [
    "a에 파일명의 글자수를 저장하면 s[:-a-1]은 파일명과 파일명 앞에 / 을 제외한 문자열 (= 디렉토리 경로)이 된다. "
   ]
  },
  {
   "cell_type": "markdown",
   "metadata": {},
   "source": [
    "새로 만든 리스트 b에 첫번째 원소에는 s[:-a-1] ( 디렉토리 경로를 넣고) 두번째 원소에는 x[0] (파일명)을 넣는다."
   ]
  },
  {
   "cell_type": "markdown",
   "metadata": {},
   "source": [
    "### 3. 두 개의 리스트를 인자로 받아서 그 두 개의 리스트에 대한 '합집합'을 반환하는 함수 list_union(lista, listb)를 작성하시오.\n",
    "#### 인자로 전달하는 리스트 2 개에는 정수값만 들어간다고 가정하자.\n",
    "#### 함수 내에서 새로운 리스트를 만들어 그 리스트 내에 인자로 받은 두 리스트의 모든 원소를 넣어 반환한다.\n",
    "#### 반환하는 리스트에는 절대로 중복된 원소가 들어 있으면 안된다 (집합의 조건).\n",
    "#### 반환하는 리스트는 정렬이 되어 있어야 한다.\n",
    "#### 다음과 같은 실행 및 출력 결과가 도출되어야 한다.◦list_union([1, 2, 3], [1, 2, 4])\n",
    "[1, 2, 3, 4]\n",
    "\n",
    "list_union([-10, -5, 0, -1], [100, 9, 0, 9])\n",
    "\n",
    "[-10, -5, -1, 0, 9, 100]\n",
    "\n",
    "list_union([0, 1, 2], [0, 1, 2])\n",
    "\n",
    "[0, 1, 2]"
   ]
  },
  {
   "cell_type": "code",
   "execution_count": 1,
   "metadata": {},
   "outputs": [
    {
     "name": "stdout",
     "output_type": "stream",
     "text": [
      "[1, 2, 3, 4, 5, 6, 7, 8, 9, 10]\n"
     ]
    }
   ],
   "source": [
    "def list_union(lista,listb):\n",
    "    for i in listb:\n",
    "        if(i not in lista):\n",
    "            lista.append(i)\n",
    "    return sorted(lista)\n",
    "\n",
    "a = [1,3,5,7,9]\n",
    "b = [2,4,6,8,9,10]\n",
    "\n",
    "print (list_union(a,b))"
   ]
  },
  {
   "cell_type": "markdown",
   "metadata": {},
   "source": [
    "리스트 b의 원소를 리스트 a의 원소와 첫번째 원소부터 하나씩 비교하여 같은게 없으면 lista.append를 통해 리스트 a에 추가하고 sorted를 통해 결과값을 정렬한다."
   ]
  },
  {
   "cell_type": "markdown",
   "metadata": {},
   "source": [
    "### 10809번 알파벳 찾기\n",
    "알파벳 소문자로만 이루어진 단어 S가 주어진다. 각각의 알파벳에 대해서, 단어에 포함되어 있는 경우에는 처음 등장하는 위치를, 포함되어 있지 않은 경우에는 -1을 출력하는 프로그램을 작성하시오."
   ]
  },
  {
   "cell_type": "code",
   "execution_count": 20,
   "metadata": {},
   "outputs": [
    {
     "name": "stdout",
     "output_type": "stream",
     "text": [
      "baekjoon\n",
      "1 0 -1 -1 2 -1 -1 -1 -1 4 3 -1 -1 7 5 -1 -1 -1 -1 -1 -1 -1 -1 -1 -1 -1 "
     ]
    }
   ],
   "source": [
    "S = 'abcdefghijklmnopqrstuvwxyz'\n",
    "str = input()\n",
    "for i in S:\n",
    "    print (str.find(i),end =\" \")"
   ]
  },
  {
   "cell_type": "markdown",
   "metadata": {},
   "source": [
    "S에 a~z까지의 알파벳을 순서대로 저장하고 , 단어를 입력받는다."
   ]
  },
  {
   "cell_type": "markdown",
   "metadata": {},
   "source": [
    "str.find(i) : 입력받은 문자열 str과 문자열 S의 첫번째 원소 a 가 str의 원소중에 있으면 위치를 반환하고 없으면 -1을 반환한다. 이것을 a~z까지 반복한다."
   ]
  },
  {
   "cell_type": "markdown",
   "metadata": {},
   "source": [
    "end = \" \"를 통해 공백을 추가한다."
   ]
  },
  {
   "cell_type": "markdown",
   "metadata": {},
   "source": [
    "![abcd](https://github.com/yugidae/2015136082/blob/master/abcd.PNG?raw=true)"
   ]
  },
  {
   "cell_type": "markdown",
   "metadata": {},
   "source": [
    "### 2675번 문자열 반복"
   ]
  },
  {
   "cell_type": "markdown",
   "metadata": {},
   "source": [
    "문자열 S를 입력받은 후에, 각 문자를 R번 반복해 새 문자열 P를 만든 후 출력하는 프로그램을 작성하시오. 즉, 첫 번째 문자를 R번 반복하고, 두 번째 문자를 R번 반복하는 식으로 P를 만들면 된다. S에는 QR Code \"alphanumeric\" 문자만 들어있다.\n",
    "\n",
    "QR Code \"alphanumeric\" 문자는 0123456789ABCDEFGHIJKLMNOPQRSTUVWXYZ\\$%*+-./: 이다."
   ]
  },
  {
   "cell_type": "code",
   "execution_count": 1,
   "metadata": {},
   "outputs": [
    {
     "name": "stdout",
     "output_type": "stream",
     "text": [
      "2\n",
      "3 ABC\n",
      "AAABBBCCC\n",
      "4 AB\n",
      "AAAABBBB\n"
     ]
    }
   ],
   "source": [
    "test = int(input())\n",
    "\n",
    "for t in range(test):\n",
    "    num,str = input().split()\n",
    "    \n",
    "    for i in str:\n",
    "        print( i*int(num), end='')\n",
    "    print()"
   ]
  },
  {
   "cell_type": "markdown",
   "metadata": {},
   "source": [
    "테스트 개수를 입력하고, num,str = input().split()를 통해 num에는 반복횟수를 입력받고, str에는 문자열을 입력받는다."
   ]
  },
  {
   "cell_type": "markdown",
   "metadata": {},
   "source": [
    "반복문을 통해 문자열의 첫번째 원소를 num만큼 반복하고, 이것을 문자열의 마지막원소까지 반복한다."
   ]
  },
  {
   "cell_type": "markdown",
   "metadata": {},
   "source": [
    "![abcd](https://github.com/yugidae/2015136082/blob/master/abcde.PNG?raw=true)"
   ]
  },
  {
   "cell_type": "markdown",
   "metadata": {},
   "source": [
    "### Incremental Project 문제\n",
    "1) 웹 URL로 지정된 웹페이지를 문자열로 가져와 1) 모든 HTML 태그를 제외한 순수 텍스트 문자열만을 걸러내고, 2) 그 순수 텍스트 문자열 안에 존재하는 단어가 총 몇개인지 출력하는 프로그램을 작성하시오."
   ]
  },
  {
   "cell_type": "code",
   "execution_count": 2,
   "metadata": {},
   "outputs": [],
   "source": [
    "import requests\n",
    "\n",
    "req = requests.get('http://cse.koreatech.ac.kr')\n",
    "\n",
    "source = req.text"
   ]
  },
  {
   "cell_type": "code",
   "execution_count": 6,
   "metadata": {},
   "outputs": [],
   "source": [
    "# print(source)"
   ]
  },
  {
   "cell_type": "code",
   "execution_count": 54,
   "metadata": {},
   "outputs": [
    {
     "name": "stdout",
     "output_type": "stream",
     "text": [
      "498\n"
     ]
    }
   ],
   "source": [
    "str = ''\n",
    "count = 0\n",
    "\n",
    "for i in range(len(source)):\n",
    "    \n",
    "    if (source[i] == '<' ):\n",
    "        count = 1\n",
    "        \n",
    "    if ( source[i] == '>' and count == 1):\n",
    "        count += 1\n",
    "        continue\n",
    "    if ( count == 2 ):\n",
    "        str += source[i]\n",
    "        \n",
    "\n",
    "s = str.split()\n",
    "\n",
    "print (len(s))"
   ]
  },
  {
   "cell_type": "markdown",
   "metadata": {},
   "source": [
    "str : HTML 태그를 제외한 순수 텍스트 문자열의 저장할 문자열 변수"
   ]
  },
  {
   "cell_type": "markdown",
   "metadata": {},
   "source": [
    "반복문을 통해 문자열을 순서대로 읽으면서 '<'가 나오면 HTML태그의 시작으로 간주하고 count = 1 을 한다. HTML태그가 되기 위해서는 '<'가 나온 후에 '>'가 나와야 하므로 '<'문자열이 나온후에 '>'문자열이 나오면 count+=1을 통해 count를 2 로 만든다. "
   ]
  },
  {
   "cell_type": "markdown",
   "metadata": {},
   "source": [
    "count = 2 가 된 시점에서 읽고 있는 문자열이 '>' 이므로 읽어야 할 문자열은 > 다음부터 시작하므로 continue를 통해 다음문자열부터 '<' 문자열이 나올때까지 문자들을 읽어 str에 저장한다."
   ]
  },
  {
   "cell_type": "markdown",
   "metadata": {},
   "source": [
    "HTML태그를 제외한 모든 문자열을 저장한 후 공백을 기준으로 나누어 리스트 s에 저장하고 이것의 개수를 출력한다."
   ]
  },
  {
   "cell_type": "markdown",
   "metadata": {},
   "source": [
    "### 느낀점\n",
    "과제를 하면서 항상 느끼는 것은 난이도가 정말 적절하다는 것이다. 문제가 너무 어려우면 실력이 부족한 학생들은 포기 할 수 밖에 없는데\n",
    "쉬운문제부터 중간난이도 수준의 문제까지 적절한 것 같다. 문제 개수가 적고 난이도가 어려워지면 특정 부분에 집중을 할 수 밖에 없게 되는데 \n",
    "난이도에 따라 여러문제를 접해 볼 수 있어서 수업시간에 배운기능들을 거의 다 써보는것 같다. 높은 수준의 친구들에게는 다소 쉬울 수도 있겠지만 파이썬을 처음접하는 친구들에게는 정말 딱 적절한 난이도의 과제라고 생각한다."
   ]
  }
 ],
 "metadata": {
  "kernelspec": {
   "display_name": "Python 3",
   "language": "python",
   "name": "python3"
  },
  "language_info": {
   "codemirror_mode": {
    "name": "ipython",
    "version": 3
   },
   "file_extension": ".py",
   "mimetype": "text/x-python",
   "name": "python",
   "nbconvert_exporter": "python",
   "pygments_lexer": "ipython3",
   "version": "3.6.5"
  }
 },
 "nbformat": 4,
 "nbformat_minor": 2
}
