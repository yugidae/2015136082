{
 "cells": [
  {
   "cell_type": "markdown",
   "metadata": {},
   "source": [
    "### 문제 1. 파일 s.txt 내의 다음 내용과 함께 아래 문제의 코드를 제시하시오.\n",
    "\n",
    "##### pig ham\n",
    "##### cat dog\n",
    "##### ham bird\n",
    "##### dog pig"
   ]
  },
  {
   "cell_type": "code",
   "execution_count": 35,
   "metadata": {},
   "outputs": [
    {
     "name": "stdout",
     "output_type": "stream",
     "text": [
      "pig ham\n",
      "cat dog\n",
      "ham bird\n",
      "dog pig\n"
     ]
    }
   ],
   "source": [
    "s = ['pig ham','cat dog','ham bird','dog pig']\n",
    "f = open('s.txt','w')\n",
    "f.write('\\n'.join(s))\n",
    "f.close()\n",
    "\n",
    "f = open('s.txt','r')\n",
    "print(f.read())\n",
    "f.close()\n"
   ]
  },
  {
   "cell_type": "markdown",
   "metadata": {},
   "source": [
    "s.txt파일에 위의 예시와 같이 단어를 배치합니다."
   ]
  },
  {
   "cell_type": "markdown",
   "metadata": {},
   "source": [
    "1) 파일 s.txt을 읽어서 각 라인에 있는 첫 번째 단어(문자열) 자체들을 기준으로 라인별 정렬후 파일 s1.txt에 그 결과를 기록하는 코드를 작성하시오. 즉, 프로그램 수행 후 s1.txt에 있는 파일 내용은 다음과 같다."
   ]
  },
  {
   "cell_type": "markdown",
   "metadata": {},
   "source": [
    "##### cat dog\n",
    "##### dog pig\n",
    "##### ham bird\n",
    "##### pig ham"
   ]
  },
  {
   "cell_type": "code",
   "execution_count": 48,
   "metadata": {},
   "outputs": [
    {
     "name": "stdout",
     "output_type": "stream",
     "text": [
      "cat dog\n",
      "dog pig\n",
      "ham bird\n",
      "pig ham\n",
      "\n"
     ]
    }
   ],
   "source": [
    "f = open('s.txt','r')\n",
    "a = f.read().split('\\n')\n",
    "f.close()\n",
    "\n",
    "f2 = open('s1.txt','w')\n",
    "\n",
    "for i in sorted(a):\n",
    "        f2.write(i)\n",
    "        f2.write('\\n')\n",
    "        \n",
    "f2 = open('s1.txt','r')\n",
    "print(f2.read())\n",
    "f2.close()\n",
    "    "
   ]
  },
  {
   "cell_type": "markdown",
   "metadata": {},
   "source": [
    "sorted()함수를 이용하여 문자열의 첫번째 단어를 기준으로 정렬합니다."
   ]
  },
  {
   "cell_type": "markdown",
   "metadata": {},
   "source": [
    "2) 파일 s.txt을 읽어서 각 라인에 있는 두 번째 단어(문자열) 자체들을 기준으로 라인별 정렬후 파일 s2.txt에 그 결과를 기록하는 코드를 작성하시오. 즉, 프로그램 수행 후 s2.txt에 있는 파일 내용은 다음과 같다."
   ]
  },
  {
   "cell_type": "code",
   "execution_count": 50,
   "metadata": {},
   "outputs": [
    {
     "name": "stdout",
     "output_type": "stream",
     "text": [
      "cat dog\n",
      "ham bird\n",
      "pig ham\n",
      "dog pig\n",
      "\n"
     ]
    }
   ],
   "source": [
    "f = open('s.txt','r')\n",
    "a = f.read().split('\\n')\n",
    "f.close()\n",
    "\n",
    "f2 = open('s2.txt','w')\n",
    "\n",
    "for i in sorted(a, key=lambda x: x[1]):\n",
    "        f2.write(i)\n",
    "        f2.write('\\n')\n",
    "        \n",
    "f2 = open('s2.txt','r')\n",
    "print(f2.read())\n",
    "f2.close()"
   ]
  },
  {
   "cell_type": "markdown",
   "metadata": {},
   "source": [
    "lambda함수를 이용하여 문자열의 두번째 단어를 기준으로 정렬합니다."
   ]
  },
  {
   "cell_type": "markdown",
   "metadata": {},
   "source": [
    "3) 파일 s.txt을 읽어서 각 라인들에 있는 모든 단어들을 순차적으로 다시 나열하되 각 라인에 세 개의 단어들이 오도록 하여 s3.txt에 기록하는 코드를 작성하시오. 즉, 프로그램 수행 후 s3.txt에 있는 파일 내용은 다음과 같다."
   ]
  },
  {
   "cell_type": "code",
   "execution_count": 65,
   "metadata": {},
   "outputs": [
    {
     "name": "stdout",
     "output_type": "stream",
     "text": [
      "pig ham cat \n",
      "dog ham bird \n",
      "dog pig \n"
     ]
    }
   ],
   "source": [
    "f = open('s.txt','r')\n",
    "a = f.read().replace('\\n',' ')\n",
    "a = a.split(' ')\n",
    "count = 0\n",
    "f2 = open('s3.txt','w')\n",
    "\n",
    "for i in a:\n",
    "        f2.write(i)\n",
    "        f2.write(' ')\n",
    "        count += 1\n",
    "        if(count == 3):\n",
    "            f2.write('\\n')\n",
    "            count = 0\n",
    "        \n",
    "        \n",
    "f2 = open('s3.txt','r')\n",
    "print(f2.read())\n",
    "f2.close()"
   ]
  },
  {
   "cell_type": "markdown",
   "metadata": {},
   "source": [
    "count = 3이 되면 줄내림합니다."
   ]
  },
  {
   "cell_type": "markdown",
   "metadata": {},
   "source": [
    "### 문제 2. 다음과 같은 조건들을 참고하여 회원 가입 및 로그인 프로그램을 작성하시오.\n",
    "1) 프로그램 시작 후 다음과 같은 메시지가 출력되어 1, 2, 3 중 하나의 값을 입력 받도록 한다.\n",
    "\n",
    "Welcome to Our Service\n",
    "\n",
    "1.Sign Up\n",
    "\n",
    "2.Sign In\n",
    "\n",
    "3.Quit\n",
    "\n",
    "2) 1을 선택하면 ID, Password, Name, School의 4가지 정보를 입력받아 파일에 저장하는 프로그램을 작성한다.\n",
    "2-1) 입력된 내용은 access.txt 라는 이름의 텍스트 파일 내에 저장된다.\n",
    "2-2) access.txt 파일의 각 라인에는 가입된 회원 각각의 정보가 \"[id]: [password], [name], [school]\" 형태로 저장된다.\n",
    "2-3) 즉, 가입 회원이 10명이면 access.txt 파일 내에 라인 수도 정확히 10개이다.\n",
    "2-4) 암호화 방식은 sha 모듈을 활용한다. sha 모듈 활용 방법은 본 문제의 마지막에 제시된 sha 활용 예를 참고한다.\n",
    "즉, access.txt 파일 내에 password 정보는 암호화 되어 저장되어야 한다.\n",
    "\n",
    "2-5) 회원 정보를 입력 받을 때 id를 입력 받은 직후 access.txt를 확인하여 이미 존재하는 id가 입력되었다면 다음 메시지를 출력하고 id 정보를 다시 입력받는다.\n",
    "\n",
    "◦Sorry, the entered ID is already used.\n",
    "3) 2를 선택하면 ID, Password의 2가지 정보를 입력받는 프로그램을 작성한다.\n",
    "3-1) 입력된 ID 정보가 access.txt에 존재하지 않으면 다음과 같은 메시지를 출력하고 다시 입력받는다.◦Sorry, you are not a registered member.\n",
    "\n",
    "3-2) 입력된 ID가 올바르게 존재하지만 Password 정보가 access.txt 파일에 있는 정보와 불일치하면 다음과 같은 메시지를 출력하고 Password를 다시 입력받는다.\n",
    "\n",
    "Sorry, the entered password is not correct.\n",
    "이 때에도 사용자가 입력한 Password 정보와 함께 sha 모듈이 활용되어야 한다.\n",
    "\n",
    "3-3) 입력된 ID와 Password가 모두 올바르면 다음과 같은 메시지를 출력한다.\n",
    "\n",
    "◦Hello [name]!\n",
    "위 [name]에는 access.txt에 기록되어 있는 name 정보를 출력한다.\n",
    "4) 3을 선택하면 프로그램이 끝난다."
   ]
  },
  {
   "cell_type": "code",
   "execution_count": 2,
   "metadata": {},
   "outputs": [
    {
     "name": "stdout",
     "output_type": "stream",
     "text": [
      "Welcome to Our Service \n",
      "1.Sign Up \n",
      "2.Sign In\n",
      "3.Quit\n",
      "2\n",
      "rleody\n",
      "abcdef\n",
      "hello afeaf!\n",
      "[rleody]:[1f8ac10f23c5b5bc1167bda84b833e5c057a77d2],[afeaf],[afeafaef]\n",
      "\n"
     ]
    }
   ],
   "source": [
    "import hashlib\n",
    "\n",
    "def hash_password(password):\n",
    "    return hashlib.sha1(password.encode()).hexdigest()\n",
    "\n",
    "def check_id(id_test,ID):\n",
    "    for i in id_test:\n",
    "        num = i.find(']')\n",
    "        if(ID == i[1:num]):\n",
    "            return i\n",
    "    \n",
    "    return False\n",
    "\n",
    "def check_password(id_test,Password):\n",
    "    for i in id_test:\n",
    "        Password = hash_password(Password)\n",
    "        num1 = i.find(':')\n",
    "        num2 = i.find(']',num1)\n",
    "        if(Password == i[num1+2:num2]):\n",
    "            num3 = i.find('[',num2+1)\n",
    "            num4 = i.find(']',num2+1)\n",
    "            return i\n",
    "    return False\n",
    "\n",
    "def final_check(s):\n",
    "    num1 = s.find(':')\n",
    "    num2 = s.find(']',num1)\n",
    "    num3 = s.find('[',num2+1)\n",
    "    num4 = s.find(']',num2+1)\n",
    "    return s[num3+1:num4]\n",
    "\n",
    "    \n",
    "    \n",
    "\n",
    "print ('Welcome to Our Service \\n1.Sign Up \\n2.Sign In\\n3.Quit')\n",
    "select = int(input())\n",
    "\n",
    "f = open('access.txt','r')\n",
    "id_test = f.read()\n",
    "f.close()\n",
    "id_test = id_test.split('\\n')\n",
    "    \n",
    "if ( select == 1):\n",
    "    f = open('access.txt','w')\n",
    "    \n",
    "    \n",
    "    while(1):\n",
    "        ID = input()\n",
    "        if(check_id(id_test,ID)):\n",
    "            print(\"Sorry, the entered ID is already used.\")\n",
    "        else:\n",
    "            break\n",
    "    f.write('[' + ID + ']:')\n",
    "    \n",
    "    Password = input()\n",
    "    password_encrypted = hash_password(Password)\n",
    "    f.write('['+ password_encrypted +'],')\n",
    "    \n",
    "    Name = input()\n",
    "    f.write('['+ Name + '],')\n",
    "    \n",
    "    School = input()\n",
    "    f.write('['+ School + ']')\n",
    "    \n",
    "    f.write('\\n')\n",
    "    f.close()\n",
    "\n",
    "if(select == 2):\n",
    "    f = open('access.txt','r')\n",
    "    \n",
    "    while(1):\n",
    "        ID = input()\n",
    "        if(not check_id(id_test,ID)):\n",
    "            print(\"Sorry, you are not a registered member.\")\n",
    "        else:\n",
    "            break\n",
    "    \n",
    "    while(1):\n",
    "        Password = input()\n",
    "        if(not check_password(id_test,Password)):\n",
    "            print(\"Sorry, the entered password is not correct.\")\n",
    "        else:\n",
    "            break    \n",
    "    \n",
    "    if(check_id(id_test,ID) == check_password(id_test,Password)):\n",
    "        s = check_id(id_test,ID)\n",
    "        print( 'hello '+final_check(s) +'!')\n",
    "    else:\n",
    "        print(\"비밀번호가 id와 일치하지 않습니다.\")\n",
    "        \n",
    "\n",
    "    f.close()\n",
    "if( select == 3 ):\n",
    "        exit(1)\n",
    "\n",
    "f = open('access.txt','r')\n",
    "print(f.read())\n",
    "f.close()"
   ]
  },
  {
   "cell_type": "markdown",
   "metadata": {},
   "source": [
    "총 4개의 함수를 만들었다. 비밀번호를 암호화하는 함수 , 등록한 회원중 입력한 id가 있는지를 확인하는 함수, 등록한 회원중 입력한 password가 있는지 확인하는 함수, 둘다 존재할경우 입력된 id와 password가 모두 올바른지 확인하는 함수를 만들었다. \n",
    "id와 password가 올바른지 확인하는 함수는 check_id와 check_password가 둘다 같은 회원정보인지를 비교하였다.\n"
   ]
  },
  {
   "cell_type": "markdown",
   "metadata": {},
   "source": [
    "### 문제 3. range() 함수와 유사한 frange() 함수를 다음 조건을 참고하여 만드시오.\n",
    "\n",
    "1) frange()의 인자 구성은 다음과 같이 range와 동일하지만 각 인수들은 음수를 받지 않는다고 가정한다.\n",
    "range(stop)\n",
    "range(start, stop[, step])\n",
    "\n",
    "2) frange() 함수의 인자에 대한 기본 시작(start) 값은 0.0이고, 기본 단계(step) 값은 0.1이다.\n",
    "3) frange 사용 예\n",
    "3-1) frange(0.5)\n",
    "[0.0, 0.1, 0.2, 0.3, 0.4]\n",
    "3-2) frange(1.0, 2.0)\n",
    "[1.0, 1.1, 1.2, 1.3, 1.4, 1.5, 1.6, 1.7, 1.8, 1.9]\n",
    "3-3) frange(2.2, 4.0, 0.5)\n",
    "[2.2, 2.7, 3.2, 3.7]"
   ]
  },
  {
   "cell_type": "code",
   "execution_count": 76,
   "metadata": {},
   "outputs": [
    {
     "name": "stdout",
     "output_type": "stream",
     "text": [
      "13\n",
      "[0.0, 0.1, 0.2, 0.3, 0.4, 0.5, 0.6, 0.7, 0.8, 0.9, 1.0, 1.1, 1.2]\n",
      "[0.3, 0.4, 0.5, 0.6]\n",
      "[0.1, 0.3, 0.5]\n"
     ]
    }
   ],
   "source": [
    "def frange(*args):\n",
    "    lst = []\n",
    "    if(len(args) == 1):\n",
    "        start = 0.0\n",
    "        stop = args[0] \n",
    "        step = 0.1\n",
    "        stop1 = int(stop*10)\n",
    "        print(stop1)\n",
    "        \n",
    "        for i in range(stop1):\n",
    "            s = \"%.1f\" % start\n",
    "            lst.append(float(s))\n",
    "            start += step\n",
    "            if(start == stop):\n",
    "                return lst\n",
    "          \n",
    "    if (len(args) == 2):\n",
    "        start = args[0]\n",
    "        stop = args[1]\n",
    "        step = 0.1\n",
    "        stop2 = int(stop*10)\n",
    "        for i in range(stop2):\n",
    "            s = \"%.1f\" % start\n",
    "            lst.append(float(s))\n",
    "            start += step\n",
    "            if(start == stop):\n",
    "                return lst\n",
    "            \n",
    "    if (len(args) == 3 ):\n",
    "        start = args[0]\n",
    "        stop = args[1]\n",
    "        step = args[2]\n",
    "        stop3 = int(stop*10)\n",
    "        for i in range(stop3):\n",
    "            s = \"%.1f\" % start\n",
    "            lst.append(float(s))\n",
    "            start += step\n",
    "            if(start == stop):\n",
    "                return lst\n",
    "    else:\n",
    "        print(\"error\")\n",
    "        return None    \n",
    "        \n",
    "a = frange(1.3)\n",
    "print(a)\n",
    "\n",
    "b = frange(0.3,0.7)\n",
    "print(b)\n",
    "\n",
    "c = frange(0.1,0.7,0.2)\n",
    "print(c)\n",
    "        \n",
    "   "
   ]
  },
  {
   "cell_type": "markdown",
   "metadata": {},
   "source": [
    "for문을 이용하여 0.5를 입력받으면 10을 곱하여 5로 만들어 for i in 5 를 통하여 0.0부터 0.4까지 출력하도록 하였다."
   ]
  },
  {
   "cell_type": "markdown",
   "metadata": {},
   "source": [
    "### 문제 4. 가변인수를 받는 함수 sum()을 다음과 같은 조건을 참고하여 구현하시오\n",
    "\n",
    "sum() 사용 예\n",
    "sum()\n",
    "0\n",
    "sum(1, 2)\n",
    "3\n",
    "sum(1, 2, 3, 4, 5)\n",
    "15\n",
    "sum(1, 5, 7, 2, -10)\n",
    "5"
   ]
  },
  {
   "cell_type": "code",
   "execution_count": 26,
   "metadata": {},
   "outputs": [
    {
     "name": "stdout",
     "output_type": "stream",
     "text": [
      "5\n"
     ]
    }
   ],
   "source": [
    "def sum(*args):\n",
    "    num = 0\n",
    "    for i in args:\n",
    "        num += i\n",
    "    return num\n",
    "\n",
    "print(sum(1,2,3,4,5,-10))\n"
   ]
  },
  {
   "cell_type": "markdown",
   "metadata": {},
   "source": [
    "가변인수를 사용하여 여러가지 조건에서 활용가능하도록 만들었다."
   ]
  },
  {
   "cell_type": "markdown",
   "metadata": {},
   "source": [
    "### 문제 5. 여러 단어로 이루어진 문자열을 입력받아 각 단어의 첫글자로 이루어진 단어를 대문자로 출력하는 myinitial() 함수를 다음 조건을 참고하여 작성하시오.\n",
    "\n",
    "1) 다음에 제시되는 함수들을 모두 이용해야 한다.\n",
    "split\n",
    "map\n",
    "join\n",
    "\n",
    "2) myinitial() 함수 사용 예\n",
    "myinitial(\"as soon as possible\")\n",
    "ASAP"
   ]
  },
  {
   "cell_type": "code",
   "execution_count": 32,
   "metadata": {},
   "outputs": [
    {
     "name": "stdout",
     "output_type": "stream",
     "text": [
      "ASAP\n"
     ]
    }
   ],
   "source": [
    "def myinitial(s):\n",
    "    s = s.title()\n",
    "    s = s.split(\" \")\n",
    "    S = list(map(lambda x: x[0], s))\n",
    "    S = \"\".join(S)\n",
    "    return S\n",
    "    \n",
    "print(myinitial(\"as soon as possible\"))"
   ]
  },
  {
   "cell_type": "markdown",
   "metadata": {},
   "source": [
    "s.title함수를 이용하여 문자열의 첫문자를 대문자로 만들고 lambda함수를 이용하여 리스트 s에 나열된 문자열들의 첫문자만 리스트에 저장하였다."
   ]
  },
  {
   "cell_type": "markdown",
   "metadata": {},
   "source": [
    "### 문제 6. 음이 아닌 정수 n를 입력받으면 n! (factorial)을 계산하는 myfact() 함수를 재귀적 함수로 구현하시오.\n",
    "\n",
    "[옵션] 참을 수 있는 정도 만큼의 수행시간을 직접 기다려보면서 n을 늘려보도록 합시다."
   ]
  },
  {
   "cell_type": "code",
   "execution_count": 43,
   "metadata": {},
   "outputs": [
    {
     "name": "stdout",
     "output_type": "stream",
     "text": [
      "50\n",
      "30414093201713378043612608166064768844377641568960512000000000000\n"
     ]
    }
   ],
   "source": [
    "def myfact(n):\n",
    "    \n",
    "    if( n < 0):\n",
    "        print(\"error\")\n",
    "        \n",
    "    elif( n == 1):\n",
    "        return 1\n",
    "    else:\n",
    "        return n * myfact(n-1)\n",
    "    \n",
    "k = int(input())\n",
    "print(myfact(k))"
   ]
  },
  {
   "cell_type": "markdown",
   "metadata": {},
   "source": [
    "n*myfact(n-1)을 통해 재귀함수를 구현하였다."
   ]
  },
  {
   "cell_type": "markdown",
   "metadata": {},
   "source": [
    "### 문제 7. (서술형) import string 과 from string import * 의 차이점을 설명하시오."
   ]
  },
  {
   "cell_type": "markdown",
   "metadata": {},
   "source": [
    "import string 이라고 했으면, string.foo 라는 방식으로 사용한다. 즉, 현재의 네임스페이스에 string 이라는 모듈을 그냥 가져온 것이다."
   ]
  },
  {
   "cell_type": "markdown",
   "metadata": {},
   "source": [
    "from string import * 은 string 모듈에 존재하는 '__'로 시작되는 이름들을 제외한 string 모듈의 모든 public 속성/함수를 몽땅 현재 네임스페이스 안으로 가지고 온다."
   ]
  },
  {
   "cell_type": "markdown",
   "metadata": {},
   "source": [
    "### 문제 8은 못했습니다."
   ]
  },
  {
   "cell_type": "code",
   "execution_count": null,
   "metadata": {},
   "outputs": [],
   "source": []
  }
 ],
 "metadata": {
  "kernelspec": {
   "display_name": "Python 3",
   "language": "python",
   "name": "python3"
  },
  "language_info": {
   "codemirror_mode": {
    "name": "ipython",
    "version": 3
   },
   "file_extension": ".py",
   "mimetype": "text/x-python",
   "name": "python",
   "nbconvert_exporter": "python",
   "pygments_lexer": "ipython3",
   "version": "3.6.5"
  }
 },
 "nbformat": 4,
 "nbformat_minor": 2
}
