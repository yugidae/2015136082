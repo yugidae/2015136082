{
 "cells": [
  {
   "cell_type": "markdown",
   "metadata": {},
   "source": [
    "### 1. a=\"Hello Python\" 문자열을 Slicing과 연결 연산자 (+)를 사용하여 \"Python Hello\"로 변경하시오.\n",
    "[주의] a 변수 자체에 \"Python Hello\" 문자열이 저장되어야 함\n"
   ]
  },
  {
   "cell_type": "code",
   "execution_count": 31,
   "metadata": {},
   "outputs": [
    {
     "name": "stdout",
     "output_type": "stream",
     "text": [
      "Hello Python\n",
      "Python Hello\n"
     ]
    }
   ],
   "source": [
    "a = \"Hello Python\"\n",
    "print (a)\n",
    "\n",
    "a = a[6:] + a[5:6] + a[:5]\n",
    "print (a)"
   ]
  },
  {
   "cell_type": "markdown",
   "metadata": {},
   "source": [
    "문자열 a를 변경하기 위해서 a[6:]을 통해 Python을 먼저 저장하고 가운데 공백문자를 넣고 a[:5]를 통해 Hello를 저장하였다."
   ]
  },
  {
   "cell_type": "markdown",
   "metadata": {},
   "source": [
    "### 2. b=\"Hello Python World\" 문자열을 Slicing과 연결 연산자 (+)를 사용하여 \"World Python Hello\"로 변경하시오.\n",
    "[주의] b 변수 자체에 \"World Python Hello\" 문자열이 저장되어야 함"
   ]
  },
  {
   "cell_type": "code",
   "execution_count": 33,
   "metadata": {},
   "outputs": [
    {
     "name": "stdout",
     "output_type": "stream",
     "text": [
      "Hello Python World\n",
      "World Python Hello\n"
     ]
    }
   ],
   "source": [
    "b = \"Hello Python World\"\n",
    "print (b)\n",
    "\n",
    "b = b[13:] + b[5:13] + b[:5]\n",
    "print(b)"
   ]
  },
  {
   "cell_type": "markdown",
   "metadata": {},
   "source": [
    "위와 마찬가지로 하였다."
   ]
  },
  {
   "cell_type": "markdown",
   "metadata": {},
   "source": [
    "### 3. c=\"Hello\"를 \"olleH\"로 변경하시오\n",
    "[주의] c 변수 자체에 \"olleH\" 문자열이 저장되어야 함"
   ]
  },
  {
   "cell_type": "code",
   "execution_count": 41,
   "metadata": {
    "scrolled": true
   },
   "outputs": [
    {
     "name": "stdout",
     "output_type": "stream",
     "text": [
      "Hello\n",
      "olleH\n"
     ]
    }
   ],
   "source": [
    "c = \"Hello\"\n",
    "print (c)\n",
    "\n",
    "c = c[::-1]\n",
    "print (c)"
   ]
  },
  {
   "cell_type": "markdown",
   "metadata": {},
   "source": [
    "c[::-1]을 통해 공차가 -1 이기 때문에 맨마지막문자부터 순서대로 출력된다."
   ]
  },
  {
   "cell_type": "markdown",
   "metadata": {},
   "source": [
    "### 4. s=\"python\"에 대해 다음 문제를 풀어보시오."
   ]
  },
  {
   "cell_type": "markdown",
   "metadata": {},
   "source": [
    "#### A. s[0], s[0][0], s[0][0][0]은 각각 어떤 값이 나오는지 확인하고 그 이유를 나름대로 설명해 보시오."
   ]
  },
  {
   "cell_type": "code",
   "execution_count": 48,
   "metadata": {},
   "outputs": [
    {
     "name": "stdout",
     "output_type": "stream",
     "text": [
      "p\n",
      "p\n",
      "p\n"
     ]
    }
   ],
   "source": [
    "s = \"python\"\n",
    "print (s[0])\n",
    "print (s[0][0])\n",
    "print (s[0][0][0])\n"
   ]
  },
  {
   "cell_type": "markdown",
   "metadata": {},
   "source": [
    "s는 1차원배열이기 때문에 s[0][0], s[0][0][0]은 모두 s[0]과 동일한 값을 의미하기 때문에 같은 값이 나온다."
   ]
  },
  {
   "cell_type": "markdown",
   "metadata": {},
   "source": [
    " "
   ]
  },
  {
   "cell_type": "markdown",
   "metadata": {},
   "source": [
    "#### B. s[-100], s[100]은 값이 나오는지 에러가 나오는지 확인하고 그 결과에 대한 이유를 나름대로 설명해 보시오."
   ]
  },
  {
   "cell_type": "code",
   "execution_count": 52,
   "metadata": {},
   "outputs": [
    {
     "ename": "IndexError",
     "evalue": "string index out of range",
     "output_type": "error",
     "traceback": [
      "\u001b[1;31m---------------------------------------------------------------------------\u001b[0m",
      "\u001b[1;31mIndexError\u001b[0m                                Traceback (most recent call last)",
      "\u001b[1;32m<ipython-input-52-0f528ebc62e9>\u001b[0m in \u001b[0;36m<module>\u001b[1;34m()\u001b[0m\n\u001b[1;32m----> 1\u001b[1;33m \u001b[0mprint\u001b[0m \u001b[1;33m(\u001b[0m\u001b[0ms\u001b[0m\u001b[1;33m[\u001b[0m\u001b[1;33m-\u001b[0m\u001b[1;36m100\u001b[0m\u001b[1;33m]\u001b[0m\u001b[1;33m)\u001b[0m\u001b[1;33m\u001b[0m\u001b[0m\n\u001b[0m\u001b[0;32m      2\u001b[0m \u001b[0mprint\u001b[0m \u001b[1;33m(\u001b[0m\u001b[0ms\u001b[0m\u001b[1;33m[\u001b[0m\u001b[1;36m100\u001b[0m\u001b[1;33m]\u001b[0m\u001b[1;33m)\u001b[0m\u001b[1;33m\u001b[0m\u001b[0m\n",
      "\u001b[1;31mIndexError\u001b[0m: string index out of range"
     ]
    }
   ],
   "source": [
    "print (s[-100])\n",
    "print (s[100])"
   ]
  },
  {
   "cell_type": "markdown",
   "metadata": {},
   "source": [
    "s[]는 길이가 6인 배열이기 때문에 s[100]과 s[-100]은 존재하지 않는다. 따라서 에러가 나온다."
   ]
  },
  {
   "cell_type": "markdown",
   "metadata": {},
   "source": [
    " "
   ]
  },
  {
   "cell_type": "markdown",
   "metadata": {},
   "source": [
    "#### C. s[-100, 100]은 값이 나오는지 에러가 나오는지 확인하고 그 결과에 대한 이유를 나름대로 설명해 보시오."
   ]
  },
  {
   "cell_type": "code",
   "execution_count": 55,
   "metadata": {},
   "outputs": [
    {
     "ename": "TypeError",
     "evalue": "string indices must be integers",
     "output_type": "error",
     "traceback": [
      "\u001b[1;31m---------------------------------------------------------------------------\u001b[0m",
      "\u001b[1;31mTypeError\u001b[0m                                 Traceback (most recent call last)",
      "\u001b[1;32m<ipython-input-55-b6abf6fa567c>\u001b[0m in \u001b[0;36m<module>\u001b[1;34m()\u001b[0m\n\u001b[1;32m----> 1\u001b[1;33m \u001b[0mprint\u001b[0m \u001b[1;33m(\u001b[0m\u001b[0ms\u001b[0m\u001b[1;33m[\u001b[0m\u001b[1;33m-\u001b[0m\u001b[1;36m100\u001b[0m\u001b[1;33m,\u001b[0m\u001b[1;36m100\u001b[0m\u001b[1;33m]\u001b[0m\u001b[1;33m)\u001b[0m\u001b[1;33m\u001b[0m\u001b[0m\n\u001b[0m",
      "\u001b[1;31mTypeError\u001b[0m: string indices must be integers"
     ]
    }
   ],
   "source": [
    "print (s[-100,100])"
   ]
  },
  {
   "cell_type": "markdown",
   "metadata": {},
   "source": [
    "s[,]와 같은 형태는 존재하지 않는 문법이므로 에러가 나타난다."
   ]
  },
  {
   "cell_type": "markdown",
   "metadata": {},
   "source": [
    "#### D. s[1:-1]의 결과를 확인하고 그 결과에 대한 이유를 정확하게 설명하시오."
   ]
  },
  {
   "cell_type": "code",
   "execution_count": 56,
   "metadata": {},
   "outputs": [
    {
     "name": "stdout",
     "output_type": "stream",
     "text": [
      "ytho\n"
     ]
    }
   ],
   "source": [
    "print (s[1:-1])"
   ]
  },
  {
   "cell_type": "markdown",
   "metadata": {},
   "source": [
    "s[1:-1]은 s[1] (include) 부터 s[-1] (exclude) 까지 출력하므로 s[1]부터 s[-2]까지 출력한다고 생각하면 된다."
   ]
  },
  {
   "cell_type": "markdown",
   "metadata": {},
   "source": [
    "#### E. s[3:-3]의 결과를 확인하고 그 결과에 대한 이유를 정확하게 설명하시오."
   ]
  },
  {
   "cell_type": "code",
   "execution_count": 57,
   "metadata": {},
   "outputs": [
    {
     "name": "stdout",
     "output_type": "stream",
     "text": [
      "\n"
     ]
    }
   ],
   "source": [
    "print (s[3:-3])"
   ]
  },
  {
   "cell_type": "markdown",
   "metadata": {},
   "source": [
    "s[3:-3]은 s[3] 부터 s[-4]까지 출력하는데 s = \"python\"에서 s[3]은 \"h\"이고 s[-4]은 \"t\"이므로 s[-4]가 s[3]보다 앞에 있으므로 아무것도 출력되지 않는다."
   ]
  },
  {
   "cell_type": "markdown",
   "metadata": {},
   "source": [
    "### 5. for문을 활용하여 1부터 100사이의 홀수를 출력하시오."
   ]
  },
  {
   "cell_type": "code",
   "execution_count": 105,
   "metadata": {},
   "outputs": [
    {
     "name": "stdout",
     "output_type": "stream",
     "text": [
      "1\n",
      "3\n",
      "5\n",
      "7\n",
      "9\n",
      "11\n",
      "13\n",
      "15\n",
      "17\n",
      "19\n",
      "21\n",
      "23\n",
      "25\n",
      "27\n",
      "29\n",
      "31\n",
      "33\n",
      "35\n",
      "37\n",
      "39\n",
      "41\n",
      "43\n",
      "45\n",
      "47\n",
      "49\n",
      "51\n",
      "53\n",
      "55\n",
      "57\n",
      "59\n",
      "61\n",
      "63\n",
      "65\n",
      "67\n",
      "69\n",
      "71\n",
      "73\n",
      "75\n",
      "77\n",
      "79\n",
      "81\n",
      "83\n",
      "85\n",
      "87\n",
      "89\n",
      "91\n",
      "93\n",
      "95\n",
      "97\n",
      "99\n"
     ]
    }
   ],
   "source": [
    "for i in range(1,100,2):\n",
    "      print(i)\n",
    "    \n",
    "       "
   ]
  },
  {
   "cell_type": "markdown",
   "metadata": {},
   "source": [
    "range(초기값,끝값,공차)이므로 1에서 100까지의 수를 출력하는데 공차가 2인 값을 출력하므로 홀수만 출력된다. "
   ]
  },
  {
   "cell_type": "markdown",
   "metadata": {},
   "source": [
    "### 6. while문을 활용하여 1부터 100사이의 짝수의 합을 계산하여 출력하시오."
   ]
  },
  {
   "cell_type": "code",
   "execution_count": 2,
   "metadata": {},
   "outputs": [
    {
     "name": "stdout",
     "output_type": "stream",
     "text": [
      "2550\n"
     ]
    }
   ],
   "source": [
    "i = 0\n",
    "sum = 0\n",
    "while i <= 100 :\n",
    "    sum = sum + i\n",
    "    i = i+2\n",
    "\n",
    "print(sum)\n",
    "    \n"
   ]
  },
  {
   "cell_type": "markdown",
   "metadata": {},
   "source": [
    "i가 100보다 커질 때까지 계속해서 2씩 더하고 매번 더할때마다 sum에 합쳐서 짝수의 합을 계산한다."
   ]
  },
  {
   "cell_type": "markdown",
   "metadata": {},
   "source": [
    "### 7. 사용자로 부터 임의의 정수를 입력받고, 해당 숫자를 역순으로 출력하는 프로그램을 작성하시오."
   ]
  },
  {
   "cell_type": "code",
   "execution_count": 8,
   "metadata": {},
   "outputs": [
    {
     "name": "stdout",
     "output_type": "stream",
     "text": [
      "정수를 입력하세요: 1234\n",
      "숫자 역순은 4321 입니다.\n"
     ]
    }
   ],
   "source": [
    "num = input(\"정수를 입력하세요: \")\n",
    "print(\"숫자 역순은 \"+ num[::-1]+\" 입니다.\")"
   ]
  },
  {
   "cell_type": "markdown",
   "metadata": {},
   "source": [
    "input를 통해 정수를 입력받고 공차가 -1이 되도록 숫자를 출력한다."
   ]
  },
  {
   "cell_type": "markdown",
   "metadata": {},
   "source": [
    "### 8. 사용자로 부터 정수를 입력받아서 1부터 그 사이에 존재하는 소수 (Prime number)를 출력하는 파이썬 프로그램을 작성하시오."
   ]
  },
  {
   "cell_type": "code",
   "execution_count": 28,
   "metadata": {},
   "outputs": [
    {
     "name": "stdout",
     "output_type": "stream",
     "text": [
      "정수를 입력하세요: 300\n",
      "2\n",
      "3\n",
      "5\n",
      "7\n",
      "11\n",
      "13\n",
      "17\n",
      "19\n",
      "23\n",
      "29\n",
      "31\n",
      "37\n",
      "41\n",
      "43\n",
      "47\n",
      "53\n",
      "59\n",
      "61\n",
      "67\n",
      "71\n",
      "73\n",
      "79\n",
      "83\n",
      "89\n",
      "97\n",
      "101\n",
      "103\n",
      "107\n",
      "109\n",
      "113\n",
      "127\n",
      "131\n",
      "137\n",
      "139\n",
      "149\n",
      "151\n",
      "157\n",
      "163\n",
      "167\n",
      "173\n",
      "179\n",
      "181\n",
      "191\n",
      "193\n",
      "197\n",
      "199\n",
      "211\n",
      "223\n",
      "227\n",
      "229\n",
      "233\n",
      "239\n",
      "241\n",
      "251\n",
      "257\n",
      "263\n",
      "269\n",
      "271\n",
      "277\n",
      "281\n",
      "283\n",
      "293\n"
     ]
    }
   ],
   "source": [
    "count = 0\n",
    "num = int(input(\"정수를 입력하세요: \"))\n",
    "for i in range(2,num):\n",
    "    count = 0\n",
    "    for j in range (2,i):\n",
    "            if(i%j == 0):\n",
    "                count = 1\n",
    "    \n",
    "    if count == 0:\n",
    "                  print(i)\n",
    "    \n",
    "        "
   ]
  },
  {
   "cell_type": "markdown",
   "metadata": {},
   "source": [
    "소수는 1과 자기자신으로만 나누어 떨어지기 때문에 2~자기자신-1의 수로 나누었을때 나머지가 0이 나오면 소수가 아니다"
   ]
  },
  {
   "cell_type": "markdown",
   "metadata": {},
   "source": [
    "따라서 나머지 = 0일때 count =1 로 만들어 count =1 일때는 소수가 아니고 count = 0일때는 소수 이므로 출력해주었다."
   ]
  },
  {
   "cell_type": "markdown",
   "metadata": {},
   "source": [
    "### 9. 첫째 줄에는 별 N개, 둘째 줄에는 별 N-1개, ..., N번째 줄에는 별 1개를 찍는 문제\n",
    "\n",
    "하지만, 오른쪽을 기준으로 정렬한 별 (예제 참고)을 출력하시오."
   ]
  },
  {
   "cell_type": "code",
   "execution_count": 79,
   "metadata": {},
   "outputs": [
    {
     "name": "stdout",
     "output_type": "stream",
     "text": [
      "10\n",
      "**********\n",
      " *********\n",
      "  ********\n",
      "   *******\n",
      "    ******\n",
      "     *****\n",
      "      ****\n",
      "       ***\n",
      "        **\n",
      "         *\n"
     ]
    }
   ],
   "source": [
    "num = int(input())\n",
    "if 1 <= num <= 100:\n",
    "    for i in range(1,num+1):\n",
    "        print(\" \"*(i-1),end=\"\")\n",
    "        while(num > i-1):\n",
    "            print (\"*\",end=\"\")\n",
    "            i = i+1\n",
    "\n",
    "\n",
    "        print()"
   ]
  },
  {
   "cell_type": "markdown",
   "metadata": {},
   "source": [
    "while(num > i-1): 문장을 통해 별의 개수를 n,n-1,n-2... 으로 출력하고 "
   ]
  },
  {
   "cell_type": "markdown",
   "metadata": {},
   "source": [
    "print(\" \"*(i-1),end=\"\")를 통해 공백 문자를 0부터 num-1까지 출력한다"
   ]
  },
  {
   "attachments": {
    "abc.PNG": {
     "image/png": "[encoded data removed]"
    }
   },
   "cell_type": "markdown",
   "metadata": {},
   "source": [
    "![abc.PNG](attachment:abc.PNG)"
   ]
  },
  {
   "cell_type": "markdown",
   "metadata": {},
   "source": [
    "### 10. 알파벳 소문자와 대문자로만 이루어진 길이가 N인 단어가 주어진다.\n",
    "\n",
    "한 줄에 10글자씩 끊어서 출력하는 프로그램을 작성하시오."
   ]
  },
  {
   "cell_type": "code",
   "execution_count": 97,
   "metadata": {},
   "outputs": [
    {
     "name": "stdout",
     "output_type": "stream",
     "text": [
      "flajfeimflanvlaifeaFLAFJELAJFLjfflafje\n",
      "flajfeimfl\n",
      "anvlaifeaF\n",
      "LAFJELAJFL\n",
      "jfflafje"
     ]
    }
   ],
   "source": [
    "count = 0\n",
    "a = input()\n",
    "\n",
    "for i in range(len(a)):\n",
    "    print (a[i],end=\"\")\n",
    "    count = count+1\n",
    "    \n",
    "    if count % 10 == 0 :\n",
    "        print()\n",
    "        "
   ]
  },
  {
   "cell_type": "markdown",
   "metadata": {},
   "source": [
    "알파벳을 입력받아서 i = 0 부터 알파벳 길이 만큼 문자열을 순서대로 출력한다."
   ]
  },
  {
   "cell_type": "markdown",
   "metadata": {},
   "source": [
    "문자열을 출력할때마다 count를 증가시켜 count = 10의 배수 일때마다 print()를 통해 줄내림을 해준다."
   ]
  },
  {
   "attachments": {
    "%EC%BA%A1%EC%B2%981.PNG": {
     "image/png": "[encoded data removed]"
    }
   },
   "cell_type": "markdown",
   "metadata": {},
   "source": [
    "![%EC%BA%A1%EC%B2%981.PNG](attachment:%EC%BA%A1%EC%B2%981.PNG)"
   ]
  },
  {
   "cell_type": "markdown",
   "metadata": {},
   "source": [
    "### 11. 상근이는 요즘 설탕공장에서 설탕을 배달하고 있다. 상근이는 지금 사탕가게에 설탕을 정확하게 N킬로그램을 배달해야 한다. 설탕공장에서 만드는 설탕은 봉지에 담겨져 있다. 봉지는 3킬로그램 봉지와 5킬로그램 봉지가 있다.\n",
    "\n",
    "상근이는 귀찮기 때문에, 최대한 적은 봉지를 들고 가려고 한다. 예를 들어, 18킬로그램 설탕을 배달해야 할 때, 3킬로그램 봉지 6개를 가져가도 되지만, 5킬로그램 3개와 3킬로그램 1개를 배달하면, 더 적은 개수의 봉지를 배달할 수 있다.\n",
    "\n",
    "상근이가 설탕을 정확하게 N킬로그램 배달해야 할 때, 봉지 몇 개를 가져가면 되는지 그 수를 구하는 프로그램을 작성하시오."
   ]
  },
  {
   "cell_type": "code",
   "execution_count": 26,
   "metadata": {},
   "outputs": [
    {
     "name": "stdout",
     "output_type": "stream",
     "text": [
      "11\n",
      "3\n"
     ]
    }
   ],
   "source": [
    "num = int(input())\n",
    "x = True\n",
    "\n",
    "a = int(num/5)\n",
    "b = int(num/3)\n",
    "count = 0\n",
    "if 3 <= num <= 5000:\n",
    "    for i in range(b+1):\n",
    "        for j in range(a+1):\n",
    "            if num == (i*3) + (j*5):\n",
    "                if(x):\n",
    "                    print(i+j)\n",
    "                    x = False\n",
    "\n",
    "            \n",
    "\n",
    "if x == True:\n",
    "    print(-1)"
   ]
  },
  {
   "cell_type": "markdown",
   "metadata": {},
   "source": [
    "a 를 위와 같이 정의하고 5킬로짜리가 우선순위가 더 높기 때문에 i = 0~b 일 때 j = 0~a 사이의 수를 대입해서 num = 3i + 5j을 만족하는 값을 찾는다."
   ]
  },
  {
   "cell_type": "markdown",
   "metadata": {},
   "source": [
    "최초로 출력된 값이 조건을 가장 만족하는 값이므로 "
   ]
  },
  {
   "cell_type": "markdown",
   "metadata": {},
   "source": [
    "num을 만족하는 값을 찾으면 출력하고 또 다른 만족하는값이 출력되지 않도록 bool을 이용하여 한번만 출력되도록 한다."
   ]
  },
  {
   "cell_type": "markdown",
   "metadata": {},
   "source": [
    "num = 3i+ 5j를 만족하는 값이 없으면 -1이 출력되도록 한다."
   ]
  },
  {
   "attachments": {
    "%EC%BA%A1%EC%B2%982.PNG": {
     "image/png": "[encoded data removed]"
    }
   },
   "cell_type": "markdown",
   "metadata": {},
   "source": [
    "![%EC%BA%A1%EC%B2%982.PNG](attachment:%EC%BA%A1%EC%B2%982.PNG)"
   ]
  },
  {
   "cell_type": "markdown",
   "metadata": {},
   "source": [
    "##### 11문제를 풀면서 python문법에 상당히 익숙해진 것 같다. \n",
    "처음에는 기본적인 조건문,if문,while문을 쓰는것에도 상당히 어려움을 느꼈었다.\n",
    "문법이 익숙하지 않아 다른 언어로는 충분히 쉽게 풀 수 있는 문제임에도 더 어렵게 푼 경향이 있는것 같다.\n",
    "특히 for문을 쓸 때 다른 언어에서는 조건도 명시할 수 있고 i--와 같이 증감 연산자도 쓸 수 있어\n",
    "훨씬 간단히 해결할 수 있었는데 python에서는 그부분이 잘 안되서 어려움을 많이 느꼈다. \n",
    "\n",
    "python이 편한 부분도 있지만 아직까지는 코드를 더 복잡하게 만드는 부분도 있는것 같다.\n"
   ]
  },
  {
   "cell_type": "code",
   "execution_count": null,
   "metadata": {},
   "outputs": [],
   "source": []
  }
 ],
 "metadata": {
  "kernelspec": {
   "display_name": "Python 3",
   "language": "python",
   "name": "python3"
  },
  "language_info": {
   "codemirror_mode": {
    "name": "ipython",
    "version": 3
   },
   "file_extension": ".py",
   "mimetype": "text/x-python",
   "name": "python",
   "nbconvert_exporter": "python",
   "pygments_lexer": "ipython3",
   "version": "3.6.5"
  }
 },
 "nbformat": 4,
 "nbformat_minor": 2
}
